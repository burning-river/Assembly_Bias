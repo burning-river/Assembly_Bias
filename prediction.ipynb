{
 "cells": [
  {
   "cell_type": "code",
   "execution_count": 1,
   "metadata": {},
   "outputs": [],
   "source": [
    "import numpy as np\n",
    "import pandas as pd\n",
    "%matplotlib inline\n",
    "import matplotlib.mlab as mlab\n",
    "import matplotlib.pyplot as plt\n",
    "from pandas.plotting import scatter_matrix\n",
    "from sklearn.model_selection import train_test_split,cross_val_score\n",
    "from sklearn.preprocessing import MinMaxScaler\n",
    "scaler = MinMaxScaler()\n",
    "from sklearn.preprocessing import PolynomialFeatures\n",
    "from sklearn.ensemble import RandomForestRegressor,RandomForestClassifier \n",
    "from matplotlib.backends.backend_pdf import PdfPages\n",
    "import seaborn as sns\n",
    "from sklearn.metrics import r2_score,confusion_matrix\n",
    "from sklearn.linear_model import Ridge\n"
   ]
  },
  {
   "cell_type": "markdown",
   "metadata": {},
   "source": [
    "# Reading Central & Satellite data"
   ]
  },
  {
   "cell_type": "code",
   "execution_count": 2,
   "metadata": {
    "collapsed": true,
    "jupyter": {
     "outputs_hidden": true
    }
   },
   "outputs": [
    {
     "name": "stdout",
     "output_type": "stream",
     "text": [
      "2\n",
      "3\n",
      "4\n",
      "5\n",
      "6\n",
      "7\n",
      "8\n",
      "9\n",
      "10\n",
      "11\n",
      "12\n",
      "13\n",
      "14\n",
      "15\n",
      "16\n",
      "17\n",
      "18\n",
      "19\n",
      "20\n",
      "21\n",
      "22\n",
      "23\n",
      "24\n",
      "25\n"
     ]
    }
   ],
   "source": [
    "cent_data = pd.read_csv('central/cenlgMh_mmcspenvani_1.txt', sep=\",\", header=None)\n",
    "str1 = \"central/cenlgMh_mmcspenvani_\"\n",
    "for i in range(2,26):\n",
    "    file2 = str1 + str(i) + '.txt'\n",
    "    data2 = pd.read_csv(file2, sep=\",\", header=None)\n",
    "    cent_data = cent_data.append(data2,ignore_index = True)\n",
    "    print(i)"
   ]
  },
  {
   "cell_type": "code",
   "execution_count": 3,
   "metadata": {
    "collapsed": true,
    "jupyter": {
     "outputs_hidden": true
    }
   },
   "outputs": [
    {
     "name": "stdout",
     "output_type": "stream",
     "text": [
      "2\n",
      "3\n",
      "4\n",
      "5\n",
      "6\n",
      "7\n",
      "8\n",
      "9\n",
      "10\n",
      "11\n",
      "12\n",
      "13\n",
      "14\n",
      "15\n",
      "16\n",
      "17\n",
      "18\n",
      "19\n",
      "20\n",
      "21\n",
      "22\n",
      "23\n",
      "24\n",
      "25\n"
     ]
    }
   ],
   "source": [
    "sat_data = pd.read_csv('satellite/new_satlgMh9col_1.txt', sep=\",\", header=None)\n",
    "str1 = \"satellite/new_satlgMh9col_\"\n",
    "for i in range(2,26):\n",
    "    file2 = str1 + str(i) + '.txt'\n",
    "    data2 = pd.read_csv(file2, sep=\",\", header=None)\n",
    "    sat_data = sat_data.append(data2,ignore_index = True)\n",
    "    print(i)"
   ]
  },
  {
   "cell_type": "markdown",
   "metadata": {},
   "source": [
    "## Defining all columns of central and satellites"
   ]
  },
  {
   "cell_type": "code",
   "execution_count": 4,
   "metadata": {},
   "outputs": [],
   "source": [
    "cent_data.columns = ['galaxyID','fofCentralId','subHaloID','phkey','con','mvir','vmax','a05','a08','vpeak',\n",
    "'zvpeak','macc','smacc','mergnum','z_firstmerg','z_lastmerg','stellarMass','fofID',\n",
    "'centralMvir','x','y','z','type','spinX','spinY','spinZ','g1_25','g2_5','g5','g10','alpha']"
   ]
  },
  {
   "cell_type": "code",
   "execution_count": 5,
   "metadata": {},
   "outputs": [],
   "source": [
    "cent_data['total_spin'] = ((cent_data.spinX)**2 + \n",
    "(cent_data.spinY)**2 + (cent_data.spinZ)**2)**(1/2)\n",
    "cent_data['total_spin'] = cent_data['total_spin']/cent_data['centralMvir']"
   ]
  },
  {
   "cell_type": "code",
   "execution_count": 6,
   "metadata": {},
   "outputs": [],
   "source": [
    "sat_data.columns = ['galaxyID','fofCentralId','stellarMass','fofID','centralMvir','x','y','z','con']"
   ]
  },
  {
   "cell_type": "code",
   "execution_count": 7,
   "metadata": {},
   "outputs": [],
   "source": [
    "def index_reset_drop(df):\n",
    "    df = df.reset_index()\n",
    "    return df.drop(columns=['index'])"
   ]
  },
  {
   "cell_type": "code",
   "execution_count": 8,
   "metadata": {},
   "outputs": [],
   "source": [
    "# sat_data_above is a pd df which contains data from sat_data \n",
    "# (entire satellite dataset) with m > 1.42.\n",
    "\n",
    "sat_data_above = sat_data[sat_data['stellarMass'] > 1.42]\n",
    "sat_data_above = index_reset_drop(sat_data_above)\n",
    "\n",
    "# haloID_above contains the fofID (haloID) of sat_data_above\n",
    "# sat_data_above[\"fofID\"].value_counts() returns 2 columns: fofID and \n",
    "# #of satellites as a pandas.core.series.Series in the decreasing order\n",
    "# of #of sats.\n",
    "# .index returns the fofIDs column as a pandas.core.indexes.numeric.Int64Index\n",
    "# .values returns the fofIDs column as a np array\n",
    "\n",
    "haloID_above = sat_data_above[\"fofID\"].value_counts().index.values"
   ]
  },
  {
   "cell_type": "code",
   "execution_count": 9,
   "metadata": {},
   "outputs": [
    {
     "data": {
      "text/html": [
       "<div>\n",
       "<style scoped>\n",
       "    .dataframe tbody tr th:only-of-type {\n",
       "        vertical-align: middle;\n",
       "    }\n",
       "\n",
       "    .dataframe tbody tr th {\n",
       "        vertical-align: top;\n",
       "    }\n",
       "\n",
       "    .dataframe thead th {\n",
       "        text-align: right;\n",
       "    }\n",
       "</style>\n",
       "<table border=\"1\" class=\"dataframe\">\n",
       "  <thead>\n",
       "    <tr style=\"text-align: right;\">\n",
       "      <th></th>\n",
       "      <th>galaxyID</th>\n",
       "      <th>fofCentralId</th>\n",
       "      <th>stellarMass</th>\n",
       "      <th>fofID</th>\n",
       "      <th>centralMvir</th>\n",
       "      <th>x</th>\n",
       "      <th>y</th>\n",
       "      <th>z</th>\n",
       "      <th>con</th>\n",
       "    </tr>\n",
       "  </thead>\n",
       "  <tbody>\n",
       "    <tr>\n",
       "      <td>0</td>\n",
       "      <td>10022714000024</td>\n",
       "      <td>10022714000000</td>\n",
       "      <td>0.000056</td>\n",
       "      <td>63001000016093</td>\n",
       "      <td>1.118854</td>\n",
       "      <td>0.341687</td>\n",
       "      <td>97.447760</td>\n",
       "      <td>224.98695</td>\n",
       "      <td>0.619767</td>\n",
       "    </tr>\n",
       "    <tr>\n",
       "      <td>1</td>\n",
       "      <td>14016663000018</td>\n",
       "      <td>14016663000000</td>\n",
       "      <td>0.000647</td>\n",
       "      <td>63001400015295</td>\n",
       "      <td>1.118854</td>\n",
       "      <td>105.567570</td>\n",
       "      <td>4.216068</td>\n",
       "      <td>240.00592</td>\n",
       "      <td>1.185708</td>\n",
       "    </tr>\n",
       "    <tr>\n",
       "      <td>2</td>\n",
       "      <td>33018471000019</td>\n",
       "      <td>33018471000000</td>\n",
       "      <td>0.000874</td>\n",
       "      <td>63003200015601</td>\n",
       "      <td>1.118854</td>\n",
       "      <td>194.013030</td>\n",
       "      <td>173.817210</td>\n",
       "      <td>58.41450</td>\n",
       "      <td>1.110460</td>\n",
       "    </tr>\n",
       "    <tr>\n",
       "      <td>3</td>\n",
       "      <td>42019019000012</td>\n",
       "      <td>42019019000000</td>\n",
       "      <td>0.000427</td>\n",
       "      <td>63004100019974</td>\n",
       "      <td>1.118854</td>\n",
       "      <td>205.166170</td>\n",
       "      <td>162.611430</td>\n",
       "      <td>229.33305</td>\n",
       "      <td>1.160042</td>\n",
       "    </tr>\n",
       "    <tr>\n",
       "      <td>4</td>\n",
       "      <td>85008109000022</td>\n",
       "      <td>85008109000000</td>\n",
       "      <td>0.000830</td>\n",
       "      <td>63008200018164</td>\n",
       "      <td>1.118854</td>\n",
       "      <td>124.323500</td>\n",
       "      <td>452.953740</td>\n",
       "      <td>247.57027</td>\n",
       "      <td>1.557637</td>\n",
       "    </tr>\n",
       "  </tbody>\n",
       "</table>\n",
       "</div>"
      ],
      "text/plain": [
       "         galaxyID    fofCentralId  stellarMass           fofID  centralMvir  \\\n",
       "0  10022714000024  10022714000000     0.000056  63001000016093     1.118854   \n",
       "1  14016663000018  14016663000000     0.000647  63001400015295     1.118854   \n",
       "2  33018471000019  33018471000000     0.000874  63003200015601     1.118854   \n",
       "3  42019019000012  42019019000000     0.000427  63004100019974     1.118854   \n",
       "4  85008109000022  85008109000000     0.000830  63008200018164     1.118854   \n",
       "\n",
       "            x           y          z       con  \n",
       "0    0.341687   97.447760  224.98695  0.619767  \n",
       "1  105.567570    4.216068  240.00592  1.185708  \n",
       "2  194.013030  173.817210   58.41450  1.110460  \n",
       "3  205.166170  162.611430  229.33305  1.160042  \n",
       "4  124.323500  452.953740  247.57027  1.557637  "
      ]
     },
     "execution_count": 9,
     "metadata": {},
     "output_type": "execute_result"
    }
   ],
   "source": [
    "# sat_data_below is a pd df which contains data from sat_data \n",
    "# (entire satellite dataset) with m < 1.42.\n",
    "\n",
    "sat_data_below = sat_data[~sat_data['fofID'].isin(haloID_above)]\n",
    "sat_data_below = index_reset_drop(sat_data_below)\n",
    "\n",
    "sat_data_below.head()"
   ]
  },
  {
   "cell_type": "code",
   "execution_count": 10,
   "metadata": {},
   "outputs": [],
   "source": [
    "# halo_below is a pd df that contains halo properties of halos \n",
    "# containing no sats with m > 1.42 \n",
    "\n",
    "haloID_below = sat_data_below['fofID'].unique()\n",
    "halo_below = cent_data[cent_data['fofID'].isin(haloID_below)]\n",
    "halo_below = index_reset_drop(halo_below)"
   ]
  },
  {
   "cell_type": "code",
   "execution_count": 11,
   "metadata": {},
   "outputs": [],
   "source": [
    "# halo_above is a pd df that contains halo properties of halos \n",
    "# containing atleast 1 sat with m > 1.42 \n",
    "\n",
    "halo_above = cent_data[cent_data['fofID'].isin(haloID_above)]\n",
    "halo_above = index_reset_drop(halo_above)\n",
    "\n",
    "# Combining both halo classes\n",
    "\n",
    "halo_full = halo_above.append(halo_below, ignore_index = True)"
   ]
  },
  {
   "cell_type": "markdown",
   "metadata": {},
   "source": [
    "## Training for Step 1\n",
    "\n",
    "Since, there is an overwhelming number of halos which contain no satellites (about 1.7 million!, ~93% of the total # of halos), we cannot use the entire halo data \n",
    "to train for Step 1. Instead, we create a sample (of N = 100,000 halos) which very well represents the original data, meaning, N contains 93% halos with no satellites."
   ]
  },
  {
   "cell_type": "markdown",
   "metadata": {},
   "source": [
    "## Step 1"
   ]
  },
  {
   "cell_type": "code",
   "execution_count": 12,
   "metadata": {},
   "outputs": [],
   "source": [
    "# sat_num.to_numpy() gives the values of the 2nd column (# of sats)\n",
    "# in sat_num\n",
    "\n",
    "sat_num = sat_data_above['fofID'].value_counts()\n",
    "sat_num_np = sat_num.to_numpy()\n",
    "\n",
    "# ground_truth_above contains 2 columns: haloIDs and # of sats\n",
    "\n",
    "ground_truth_above = pd.DataFrame({'fofID': haloID_above, \n",
    "                    'Number of Sats': sat_num_np})"
   ]
  },
  {
   "cell_type": "code",
   "execution_count": 13,
   "metadata": {},
   "outputs": [],
   "source": [
    "ground_truth_above_sort = ground_truth_above.sort_values(by = ['fofID'])\n",
    "ground_truth_above_sort = index_reset_drop(ground_truth_above_sort)\n",
    "\n",
    "halo_above_sort = halo_above.sort_values(by = ['fofID'])\n",
    "halo_above_sort = index_reset_drop(halo_above_sort)\n",
    "\n",
    "halo_above_sort['Number of Sats'] = ground_truth_above_sort['Number of Sats']\n",
    "halo_below['Number of Sats'] = 0\n"
   ]
  },
  {
   "cell_type": "code",
   "execution_count": 14,
   "metadata": {},
   "outputs": [],
   "source": [
    "# zero_num ~ 93000, more_num ~ 17000\n",
    "\n",
    "N = 100000\n",
    "zero_num = halo_below.shape[0]/halo_full.shape[0]\n",
    "#zero_num = 0.5\n",
    "zero_num *= N\n",
    "zero_num = np.rint(zero_num)\n",
    "zero_num = zero_num.astype(int)\n",
    "more_num = N - zero_num\n",
    "\n",
    "halo_above_sample = halo_above_sort.sample(n=more_num,random_state=0).reset_index(drop=True)\n",
    "halo_above_sample = index_reset_drop(halo_above_sample)\n",
    "halo_below_sample = halo_below.sample(n=zero_num,random_state=0)\n",
    "halo_below_sample = index_reset_drop(halo_below_sample)\n",
    "halo_sample = halo_above_sample.append(halo_below_sample, ignore_index = True)\n",
    "\n",
    "halo_sample_shuffle = halo_sample.sample(frac=1).reset_index(drop=True)\n",
    "halo_sample_shuffle = index_reset_drop(halo_sample_shuffle)"
   ]
  },
  {
   "cell_type": "code",
   "execution_count": 15,
   "metadata": {},
   "outputs": [],
   "source": [
    "halo_features_all =  ['phkey','con','mvir','vmax','a05','a08','vpeak',\n",
    "'zvpeak','macc','smacc','mergnum','z_firstmerg','z_lastmerg',\n",
    "'x','y','z','total_spin','g1_25','g2_5','g5','g10','alpha']\n",
    "\n",
    "y = halo_sample_shuffle['Number of Sats'].to_numpy()\n",
    "X = pd.get_dummies(halo_sample_shuffle[halo_features_all])\n",
    "X_train, X_val, y_train, y_val = train_test_split(X, y, random_state = 0)\n",
    "\n",
    "rfreg = RandomForestRegressor(n_estimators = 100, \n",
    "                max_depth = 20.0,min_samples_leaf = 5,\n",
    "                n_jobs = -1,oob_score = True,random_state = 0,\n",
    "                max_features='log2')\n",
    "rfreg.fit(X_train, y_train);"
   ]
  },
  {
   "cell_type": "code",
   "execution_count": 16,
   "metadata": {},
   "outputs": [
    {
     "name": "stdout",
     "output_type": "stream",
     "text": [
      "[0.93289659 0.78994034 0.89505634 0.92392929 0.87349204]\n",
      "0.8830629176367475 0.05110912660622686\n"
     ]
    }
   ],
   "source": [
    "rfreg_uncorr_scores = cross_val_score(rfreg, X, y, scoring=\"r2\", cv=5)\n",
    "print(rfreg_uncorr_scores)\n",
    "print(np.mean(rfreg_uncorr_scores),np.std(rfreg_uncorr_scores))"
   ]
  },
  {
   "cell_type": "code",
   "execution_count": 17,
   "metadata": {},
   "outputs": [],
   "source": [
    "def bar_plot(rf, clmns, outfile):\n",
    "    feature_imp = rf.feature_importances_\n",
    "    features_arr = np.array(clmns)\n",
    "\n",
    "    indices = np.argsort(feature_imp)\n",
    "\n",
    "    with PdfPages(outfile) as pdf:\n",
    "        fig = plt.figure(figsize=(12,12))\n",
    "        ax = fig.add_subplot(111)\n",
    "        plt.subplots_adjust(left = 0.2)\n",
    "        ax.barh(range(len(indices)), feature_imp[indices])\n",
    "        ax.set_yticks(range(len(indices)))\n",
    "        ax.set_yticklabels([features_arr[i] for i in indices])\n",
    "        pdf.savefig()"
   ]
  },
  {
   "cell_type": "code",
   "execution_count": 18,
   "metadata": {},
   "outputs": [
    {
     "data": {
      "image/png": "[encoded data removed]",
      "text/plain": [
       "<Figure size 864x864 with 1 Axes>"
      ]
     },
     "metadata": {
      "needs_background": "light"
     },
     "output_type": "display_data"
    }
   ],
   "source": [
    "bar_plot(rfreg,X_train.columns,'feature_imp_full.pdf')"
   ]
  },
  {
   "cell_type": "code",
   "execution_count": 19,
   "metadata": {},
   "outputs": [
    {
     "data": {
      "image/png": "[encoded data removed]",
      "text/plain": [
       "<Figure size 864x864 with 1 Axes>"
      ]
     },
     "metadata": {
      "needs_background": "light"
     },
     "output_type": "display_data"
    }
   ],
   "source": [
    "# Using top 7 features\n",
    "feature_imp = rfreg.feature_importances_\n",
    "features_arr = np.array(X_train.columns)\n",
    "\n",
    "indices = np.argsort(feature_imp)\n",
    "\n",
    "feature_pos = np.hstack((indices[-7:-1],indices[-1]))\n",
    "halo_features_top = features_arr[feature_pos]\n",
    "\n",
    "X = pd.get_dummies(halo_sample_shuffle[halo_features_top])\n",
    "\n",
    "X_train, X_val, y_train, y_val = train_test_split(X, y, random_state = 0)\n",
    "rfreg_top = RandomForestRegressor(n_estimators = 100, \n",
    "                max_depth = 20.0,min_samples_leaf = 5,\n",
    "                n_jobs = -1,oob_score = True,random_state = 0,\n",
    "                max_features='log2')\n",
    "rfreg_top.fit(X_train, y_train);\n",
    "pred_rfreg_top = rfreg_top.predict(X_val)\n",
    "\n",
    "bar_plot(rfreg_top, X_train.columns, 'feature_imp_top.pdf')"
   ]
  },
  {
   "cell_type": "code",
   "execution_count": 20,
   "metadata": {},
   "outputs": [],
   "source": [
    "def corr_mat(correlation,outfile):\n",
    "    with PdfPages(outfile) as pdf:\n",
    "        f, ax_hm = plt.subplots(figsize=(7, 7))\n",
    "        ax_hm = sns.heatmap(correlation, \n",
    "        xticklabels=correlation.columns,\n",
    "        yticklabels=correlation.columns, annot = True, square = True)\n",
    "        ax_hm.set_ylim(len(correlation), -0.01)\n",
    "        pdf.savefig()    "
   ]
  },
  {
   "cell_type": "code",
   "execution_count": 21,
   "metadata": {},
   "outputs": [
    {
     "data": {
      "image/png": "[encoded data removed]",
      "text/plain": [
       "<Figure size 504x504 with 2 Axes>"
      ]
     },
     "metadata": {
      "needs_background": "light"
     },
     "output_type": "display_data"
    }
   ],
   "source": [
    "corr_mat(X.corr(),'heatmap_sat_top.pdf')"
   ]
  },
  {
   "cell_type": "code",
   "execution_count": 22,
   "metadata": {},
   "outputs": [],
   "source": [
    "feature_uncorr_reg = ['mvir','vpeak','macc','g2_5','total_spin']"
   ]
  },
  {
   "cell_type": "code",
   "execution_count": 23,
   "metadata": {},
   "outputs": [
    {
     "name": "stdout",
     "output_type": "stream",
     "text": [
      "[0.93448279 0.94933325 0.88143464 0.93789057 0.89789483]\n",
      "0.9202072155526407 0.025945997707461813\n"
     ]
    }
   ],
   "source": [
    "poly_features = PolynomialFeatures(degree=2, include_bias=True)\n",
    "X_scale = X.copy()\n",
    "X_scale[feature_uncorr_reg] = scaler.fit_transform(X_scale[feature_uncorr_reg])\n",
    "X_poly = poly_features.fit_transform(X_scale)\n",
    "X_train_poly, X_val_poly, y_train, y_val = train_test_split(X_poly, y, random_state = 0)\n",
    "\n",
    "ridge_reg = Ridge(alpha=1E-3, solver=\"svd\", random_state=0)\n",
    "ridgereg_scores = cross_val_score(ridge_reg, X_poly, y,\n",
    "                                scoring=\"r2\", cv=5)\n",
    "print(ridgereg_scores)\n",
    "print(np.mean(ridgereg_scores),np.std(ridgereg_scores))"
   ]
  },
  {
   "cell_type": "code",
   "execution_count": 24,
   "metadata": {},
   "outputs": [],
   "source": [
    "y = halo_sample_shuffle['Number of Sats'].to_numpy()\n",
    "X = pd.get_dummies(halo_sample_shuffle[feature_uncorr_reg])\n",
    "X_train, X_val, y_train, y_val = train_test_split(X, y, random_state = 0)\n",
    "\n",
    "rfreg_uncorr = RandomForestRegressor(n_estimators = 100, \n",
    "                max_depth = 20.0,min_samples_leaf = 5,\n",
    "                n_jobs = -1,oob_score = True,random_state = 0,\n",
    "                max_features='log2')\n",
    "rfreg_uncorr.fit(X_train, y_train);"
   ]
  },
  {
   "cell_type": "code",
   "execution_count": 25,
   "metadata": {},
   "outputs": [
    {
     "name": "stdout",
     "output_type": "stream",
     "text": [
      "[0.92860353 0.7932161  0.88249449 0.9301695  0.88473109]\n",
      "0.8838429445168317 0.04973025594066147\n"
     ]
    }
   ],
   "source": [
    "rfreg_uncorr_scores = cross_val_score(rfreg_uncorr, X, y, scoring=\"r2\", cv=5)\n",
    "print(rfreg_uncorr_scores)\n",
    "print(np.mean(rfreg_uncorr_scores),np.std(rfreg_uncorr_scores))"
   ]
  },
  {
   "cell_type": "markdown",
   "metadata": {},
   "source": [
    "## Predicting Central galaxy occupation: Classification\n",
    "\n",
    "Central data has 8.76 million rows! We'll first go through the entire data set, classify halos with central galaxy mass < 1.42 as 0, and 1 otherwise. We'll then make a representative sample of the data set."
   ]
  },
  {
   "cell_type": "code",
   "execution_count": 29,
   "metadata": {},
   "outputs": [],
   "source": [
    "cent_data_cp = cent_data.copy()\n",
    "\n",
    "cent_data_cp.loc[cent_data_cp['stellarMass'] < 1.42, \n",
    "                   'stellarMass'] = 0\n",
    "cent_data_cp.loc[cent_data_cp['stellarMass'] > 1.42, \n",
    "                   'stellarMass'] = 1\n",
    "cent_data_cp['stellarMass'] = cent_data_cp['stellarMass'].astype(int)\n",
    "\n",
    "central_0 = cent_data_cp.loc[cent_data_cp['stellarMass'] == 0]\n",
    "central_0 = index_reset_drop(central_0)\n",
    "\n",
    "central_1 = cent_data_cp.loc[cent_data_cp['stellarMass'] == 1]\n",
    "central_1 = index_reset_drop(central_1)\n"
   ]
  },
  {
   "cell_type": "code",
   "execution_count": 30,
   "metadata": {},
   "outputs": [],
   "source": [
    "N = 100000\n",
    "zero_num = central_0.shape[0]/cent_data_cp.shape[0]\n",
    "zero_num *= N\n",
    "zero_num = np.rint(zero_num)\n",
    "zero_num = zero_num.astype(int)\n",
    "more_num = N - zero_num\n",
    "\n",
    "# Creating sample of 0-central halos\n",
    "central_0_sample = central_0.sample(n=zero_num,random_state=0)\n",
    "central_0_sample = index_reset_drop(central_0_sample)\n",
    "\n",
    "# Creating sample of 1 central halos\n",
    "central_1_sample = central_1.sample(n=more_num,random_state=0)\n",
    "central_1_sample = index_reset_drop(central_1_sample)\n",
    "\n",
    "central_both_sample = central_1_sample.append(central_0_sample, ignore_index = True)"
   ]
  },
  {
   "cell_type": "code",
   "execution_count": 37,
   "metadata": {},
   "outputs": [
    {
     "data": {
      "text/plain": [
       "array([[22579,   208],\n",
       "       [  151,  2062]])"
      ]
     },
     "execution_count": 37,
     "metadata": {},
     "output_type": "execute_result"
    },
    {
     "data": {
      "image/png": "[encoded data removed]",
      "text/plain": [
       "<Figure size 288x288 with 2 Axes>"
      ]
     },
     "metadata": {
      "needs_background": "light"
     },
     "output_type": "display_data"
    }
   ],
   "source": [
    "# Shuffling\n",
    "central_both_shuffle = central_both_sample.sample(frac=1).reset_index(drop=True)\n",
    "\n",
    "y = central_both_shuffle['stellarMass'].to_numpy()\n",
    "X = pd.get_dummies(central_both_shuffle[halo_features_all])\n",
    "\n",
    "X_train, X_val, y_train, y_val = train_test_split(X, y, random_state = 0)\n",
    "\n",
    "rfclass_full = RandomForestClassifier(n_estimators = 300, \n",
    "                max_depth = 20.0,min_samples_leaf = 10,\n",
    "                n_jobs = -1,oob_score = True,random_state = 0,\n",
    "                max_features='log2')\n",
    "\n",
    "rfclass_full.fit(X_train, y_train);\n",
    "pred_rfclass_cent = rfclass_full.predict(X_val)"
   ]
  },
  {
   "cell_type": "code",
   "execution_count": 125,
   "metadata": {},
   "outputs": [],
   "source": [
    "def plot_conf_matrix(matrix,outfile):\n",
    "    matrix_dnsty = np.zeros((2,2))\n",
    "    matrix_dnsty[0,:] = matrix[0,:]/np.sum(matrix[0,:])\n",
    "    matrix_dnsty[1,:] = matrix[1,:]/np.sum(matrix[1,:])\n",
    "    plt.matshow(matrix_dnsty)\n",
    "    plt.colorbar()\n",
    "    plt.xlabel('Predicted')\n",
    "    plt.ylabel('True')\n",
    "    for i in range(2):\n",
    "        for j in range(2):\n",
    "            plt.text(i,j,str(np.around(matrix_dnsty[i,j],decimals=3)))\n",
    "    with PdfPages(outfile) as pdf:\n",
    "        pdf.savefig()"
   ]
  },
  {
   "cell_type": "code",
   "execution_count": 126,
   "metadata": {},
   "outputs": [
    {
     "data": {
      "image/png": "[encoded data removed]",
      "text/plain": [
       "<Figure size 288x288 with 2 Axes>"
      ]
     },
     "metadata": {
      "needs_background": "light"
     },
     "output_type": "display_data"
    }
   ],
   "source": [
    "cm_cent = confusion_matrix(y_val, pred_rfclass_cent)\n",
    "plot_conf_matrix(cm_cent,'confusion_matrix_full.pdf')"
   ]
  },
  {
   "cell_type": "code",
   "execution_count": 104,
   "metadata": {},
   "outputs": [
    {
     "data": {
      "image/png": "[encoded data removed]",
      "text/plain": [
       "<Figure size 864x864 with 1 Axes>"
      ]
     },
     "metadata": {
      "needs_background": "light"
     },
     "output_type": "display_data"
    }
   ],
   "source": [
    "bar_plot(rfclass_full,X_train.columns,'feature_imp_full_cent.pdf')"
   ]
  },
  {
   "cell_type": "code",
   "execution_count": 39,
   "metadata": {},
   "outputs": [
    {
     "name": "stdout",
     "output_type": "stream",
     "text": [
      "0.9317668323542703 0.9083700440528635 0.98564\n",
      "0.91991969663172\n"
     ]
    }
   ],
   "source": [
    "tn, fp, fn, tp = confusion_matrix(y_val, pred_rfclass_cent).ravel()\n",
    "recall = tp / (tp + fn)\n",
    "prec = tp / (tp + fp)\n",
    "accuracy = (tp + tn)/(tp + tn + fp + fn)\n",
    "print(recall, prec, accuracy)\n",
    "f1 = 2.0/((1.0/prec) + (1.0/recall))\n",
    "print(f1)"
   ]
  },
  {
   "cell_type": "code",
   "execution_count": 40,
   "metadata": {},
   "outputs": [
    {
     "name": "stdout",
     "output_type": "stream",
     "text": [
      "[0.91983852 0.91939618 0.91405576 0.91149425 0.91316849]\n",
      "0.9155906421457489 0.003392041648111548\n"
     ]
    }
   ],
   "source": [
    "rfclass_full_scores = cross_val_score(rfclass_full, X, y, scoring=\"f1\", cv=5)\n",
    "print(rfclass_full_scores)\n",
    "print(np.mean(rfclass_full_scores),np.std(rfclass_full_scores))"
   ]
  },
  {
   "cell_type": "code",
   "execution_count": 105,
   "metadata": {},
   "outputs": [],
   "source": [
    "# Using top 7 features\n",
    "feature_imp = rfclass_full.feature_importances_\n",
    "features_arr = np.array(X_train.columns)\n",
    "\n",
    "indices = np.argsort(feature_imp)\n",
    "\n",
    "feature_pos = np.hstack((indices[-7:-1],indices[-1]))\n",
    "central_features_top = features_arr[feature_pos]\n",
    "\n",
    "X = pd.get_dummies(central_both_shuffle[central_features_top])\n",
    "\n",
    "X_train, X_val, y_train, y_val = train_test_split(X, y, random_state = 0)\n",
    "rfclass_top = RandomForestClassifier(n_estimators = 100, \n",
    "                max_depth = 20.0,min_samples_leaf = 5,\n",
    "                n_jobs = -1,oob_score = True,random_state = 0,\n",
    "                max_features='log2')\n",
    "\n",
    "rfclass_top.fit(X_train, y_train);\n",
    "#pred_rfclass_top = rfclass_top.predict(X_val)"
   ]
  },
  {
   "cell_type": "code",
   "execution_count": 106,
   "metadata": {},
   "outputs": [
    {
     "data": {
      "image/png": "[encoded data removed]",
      "text/plain": [
       "<Figure size 864x864 with 1 Axes>"
      ]
     },
     "metadata": {
      "needs_background": "light"
     },
     "output_type": "display_data"
    }
   ],
   "source": [
    "bar_plot(rfclass_top,X_train.columns,'feature_imp_top_cent.pdf')"
   ]
  },
  {
   "cell_type": "code",
   "execution_count": 107,
   "metadata": {},
   "outputs": [
    {
     "name": "stdout",
     "output_type": "stream",
     "text": [
      "[0.91217967 0.91580756 0.91370851 0.9027417  0.90694324]\n",
      "0.9102761384726193 0.004772361502416144\n"
     ]
    }
   ],
   "source": [
    "rfclass_top_scores = cross_val_score(rfclass_top, X, y, scoring=\"f1\", cv=5)\n",
    "print(rfclass_top_scores)\n",
    "print(np.mean(rfclass_top_scores),np.std(rfclass_top_scores))"
   ]
  },
  {
   "cell_type": "code",
   "execution_count": 108,
   "metadata": {},
   "outputs": [
    {
     "data": {
      "image/png": "[encoded data removed]",
      "text/plain": [
       "<Figure size 504x504 with 2 Axes>"
      ]
     },
     "metadata": {
      "needs_background": "light"
     },
     "output_type": "display_data"
    }
   ],
   "source": [
    "corr_mat(X.corr(),'heatmap_cent_top.pdf')"
   ]
  },
  {
   "cell_type": "code",
   "execution_count": 129,
   "metadata": {},
   "outputs": [],
   "source": [
    "# Using only uncorrelated features\n",
    "feature_uncorr_class = ['vmax','mvir','z_firstmerg','macc','total_spin']\n",
    "\n",
    "X = pd.get_dummies(central_both_shuffle[feature_uncorr_class])\n",
    "\n",
    "X_train, X_val, y_train, y_val = train_test_split(X, y, random_state = 0)\n",
    "rfclass_uncorr = RandomForestClassifier(n_estimators = 200, \n",
    "                max_depth = 20.0,min_samples_leaf = 6,\n",
    "                n_jobs = -1,oob_score = True,random_state = 0,\n",
    "                max_features='log2')\n",
    "rfclass_uncorr.fit(X_train, y_train);\n",
    "#pred_rf_uncorr = rfclass_uncorr.predict(X_val)"
   ]
  },
  {
   "cell_type": "code",
   "execution_count": 130,
   "metadata": {},
   "outputs": [
    {
     "data": {
      "image/png": "[encoded data removed]",
      "text/plain": [
       "<Figure size 288x288 with 2 Axes>"
      ]
     },
     "metadata": {
      "needs_background": "light"
     },
     "output_type": "display_data"
    }
   ],
   "source": [
    "pred_rf_uncorr = rfclass_uncorr.predict(X_val)\n",
    "cm_cent_uncorr = confusion_matrix(y_val, pred_rf_uncorr)\n",
    "plot_conf_matrix(cm_cent_uncorr,'confusion_matrix_uncorr.pdf')"
   ]
  },
  {
   "cell_type": "code",
   "execution_count": 110,
   "metadata": {},
   "outputs": [
    {
     "name": "stdout",
     "output_type": "stream",
     "text": [
      "[0.90700344 0.9089352  0.90825424 0.8974212  0.89597701]\n",
      "0.9035182199627358 0.005620743476549644\n"
     ]
    }
   ],
   "source": [
    "rfclass_uncorr_scores = cross_val_score(rfclass_uncorr, X, y, scoring=\"f1\", cv=5)\n",
    "print(rfclass_uncorr_scores)\n",
    "print(np.mean(rfclass_uncorr_scores),np.std(rfclass_uncorr_scores))"
   ]
  },
  {
   "cell_type": "markdown",
   "metadata": {},
   "source": [
    "## Strategy\n",
    "\n",
    "Step 1: First _classify_ which halos will have no satellites with m > 1.42.\n",
    "Define class 0 as those halos that have no satellites, and class 1 as those which have 1 or more satellites.\n",
    "\n",
    "Step 2: Next, use a _regressor_ to predict the number of satellites halos of class 1 will have."
   ]
  },
  {
   "cell_type": "markdown",
   "metadata": {},
   "source": [
    "## Step 1 Training starts here\n",
    "\n",
    "We'll proceed in 3 steps:\n",
    "\n",
    "Step 1: Use all halo features to train a random forest classifier. Then plot feature importances to select the top most features.\n",
    "\n",
    "Step 2: Run the RF classifier with the most important features.\n",
    "\n",
    "Step 3: Plot a correlation matrix of the most important features, select the least correlated features, and then run the RF classifier."
   ]
  },
  {
   "cell_type": "markdown",
   "metadata": {},
   "source": [
    "__Step 1__"
   ]
  },
  {
   "cell_type": "code",
   "execution_count": 334,
   "metadata": {},
   "outputs": [],
   "source": [
    "halo_features_all =  ['phkey','con','mvir','vmax','a05','a08','vpeak',\n",
    "'zvpeak','macc','smacc','mergnum','z_firstmerg','z_lastmerg',\n",
    "'x','y','z','total_spin','g1_25','g2_5','g5','g10','alpha']\n",
    "\n",
    "# Shuffling\n",
    "halo_both_sample = halo_both_sample.sample(frac=1).reset_index(drop=True)\n",
    "\n",
    "y = halo_both_sample['zero or one'].to_numpy()\n",
    "X = pd.get_dummies(halo_both_sample[halo_features_all])\n",
    "\n",
    "X_train, X_val, y_train, y_val = train_test_split(X, y, random_state = 0)\n",
    "\n",
    "rfclass_full = RandomForestClassifier(n_estimators = 300, \n",
    "                max_depth = 20.0,min_samples_leaf = 10,\n",
    "                n_jobs = -1,oob_score = True,random_state = 0,\n",
    "                max_features='log2')"
   ]
  },
  {
   "cell_type": "code",
   "execution_count": 336,
   "metadata": {},
   "outputs": [
    {
     "data": {
      "text/plain": [
       "array([[22809,   245],\n",
       "       [  668,  1278]])"
      ]
     },
     "execution_count": 336,
     "metadata": {},
     "output_type": "execute_result"
    },
    {
     "data": {
      "image/png": "[encoded data removed]",
      "text/plain": [
       "<Figure size 288x288 with 2 Axes>"
      ]
     },
     "metadata": {
      "needs_background": "light"
     },
     "output_type": "display_data"
    }
   ],
   "source": [
    "rfclass_full.fit(X_train, y_train);\n",
    "pred_rfclass_full = rfclass_full.predict(X_val)\n",
    "cm_full = confusion_matrix(y_val, pred_rfclass_full)\n",
    "plt.matshow(cm_full)\n",
    "plt.colorbar()\n",
    "plt.xlabel('Predicted')\n",
    "plt.ylabel('True')\n",
    "cm_full"
   ]
  },
  {
   "cell_type": "code",
   "execution_count": 337,
   "metadata": {},
   "outputs": [],
   "source": [
    "def bar_plot(rf, clmns, outfile):\n",
    "    feature_imp = rf.feature_importances_\n",
    "    features_arr = np.array(clmns)\n",
    "\n",
    "    indices = np.argsort(feature_imp)\n",
    "\n",
    "    with PdfPages(outfile) as pdf:\n",
    "        fig = plt.figure(figsize=(12,12))\n",
    "        ax = fig.add_subplot(111)\n",
    "        plt.subplots_adjust(left = 0.2)\n",
    "        ax.barh(range(len(indices)), feature_imp[indices])\n",
    "        ax.set_yticks(range(len(indices)))\n",
    "        ax.set_yticklabels([features_arr[i] for i in indices])\n",
    "        pdf.savefig()"
   ]
  },
  {
   "cell_type": "code",
   "execution_count": 338,
   "metadata": {},
   "outputs": [
    {
     "data": {
      "image/png": "[encoded data removed]",
      "text/plain": [
       "<Figure size 864x864 with 1 Axes>"
      ]
     },
     "metadata": {
      "needs_background": "light"
     },
     "output_type": "display_data"
    }
   ],
   "source": [
    "bar_plot(rfclass_full,X_train.columns,'feature_imp_full.pdf')"
   ]
  },
  {
   "cell_type": "code",
   "execution_count": 325,
   "metadata": {},
   "outputs": [
    {
     "name": "stdout",
     "output_type": "stream",
     "text": [
      "0.6684607104413348 0.8263473053892215 0.96492\n",
      "0.7390657542398096\n"
     ]
    }
   ],
   "source": [
    "tn, fp, fn, tp = confusion_matrix(y_val, pred_rfclass_full).ravel()\n",
    "recall = tp / (tp + fn)\n",
    "prec = tp / (tp + fp)\n",
    "accuracy = (tp + tn)/(tp + tn + fp + fn)\n",
    "print(recall, prec, accuracy)\n",
    "f1 = 2.0/((1.0/prec) + (1.0/recall))\n",
    "print(f1)"
   ]
  },
  {
   "cell_type": "code",
   "execution_count": 326,
   "metadata": {},
   "outputs": [
    {
     "name": "stdout",
     "output_type": "stream",
     "text": [
      "[0.73942898 0.73798338 0.74018018 0.73282443 0.74047448]\n",
      "0.7381782892819928 0.0028123342415645354\n"
     ]
    }
   ],
   "source": [
    "rfclass_full_scores = cross_val_score(rfclass_full, X, y, scoring=\"f1\", cv=5)\n",
    "print(rfclass_full_scores)\n",
    "print(np.mean(rfclass_full_scores),np.std(rfclass_full_scores))"
   ]
  },
  {
   "cell_type": "markdown",
   "metadata": {},
   "source": [
    "__Step 2__"
   ]
  },
  {
   "cell_type": "code",
   "execution_count": 339,
   "metadata": {},
   "outputs": [
    {
     "data": {
      "image/png": "[encoded data removed]",
      "text/plain": [
       "<Figure size 864x864 with 1 Axes>"
      ]
     },
     "metadata": {
      "needs_background": "light"
     },
     "output_type": "display_data"
    }
   ],
   "source": [
    "# Using top 7 features\n",
    "feature_imp = rfclass_full.feature_importances_\n",
    "features_arr = np.array(X_train.columns)\n",
    "\n",
    "indices = np.argsort(feature_imp)\n",
    "\n",
    "feature_pos = np.hstack((indices[-7:-1],indices[-1]))\n",
    "halo_features_top = features_arr[feature_pos]\n",
    "\n",
    "X = pd.get_dummies(halo_both_sample[halo_features_top])\n",
    "\n",
    "X_train, X_val, y_train, y_val = train_test_split(X, y, random_state = 0)\n",
    "rfclass_top = RandomForestClassifier(n_estimators = 100, \n",
    "                max_depth = 20.0,min_samples_leaf = 5,\n",
    "                n_jobs = -1,oob_score = True,random_state = 0,\n",
    "                max_features='log2')\n",
    "rfclass_top.fit(X_train, y_train);\n",
    "pred_rfclass_top = rfclass_top.predict(X_val)\n",
    "\n",
    "bar_plot(rfclass_top, X_train.columns, 'feature_imp_top.pdf')"
   ]
  },
  {
   "cell_type": "code",
   "execution_count": 340,
   "metadata": {},
   "outputs": [
    {
     "name": "stdout",
     "output_type": "stream",
     "text": [
      "[0.73068592 0.72557471 0.7280364  0.72513369 0.72760116]\n",
      "0.7274063761900645 0.0019854660652186733\n"
     ]
    }
   ],
   "source": [
    "rfclass_top_scores = cross_val_score(rfclass_top, X, y, scoring=\"f1\", cv=5)\n",
    "print(rfclass_top_scores)\n",
    "print(np.mean(rfclass_top_scores),np.std(rfclass_top_scores))"
   ]
  },
  {
   "cell_type": "code",
   "execution_count": 329,
   "metadata": {},
   "outputs": [],
   "source": [
    "def corr_mat(correlation,outfile):\n",
    "    with PdfPages(outfile) as pdf:\n",
    "        f, ax_hm = plt.subplots(figsize=(7, 7))\n",
    "        ax_hm = sns.heatmap(correlation, \n",
    "        xticklabels=correlation.columns,\n",
    "        yticklabels=correlation.columns, annot = True, square = True)\n",
    "        ax_hm.set_ylim(len(correlation), -0.01)\n",
    "        pdf.savefig()    "
   ]
  },
  {
   "cell_type": "code",
   "execution_count": 341,
   "metadata": {},
   "outputs": [
    {
     "data": {
      "image/png": "[encoded data removed]",
      "text/plain": [
       "<Figure size 504x504 with 2 Axes>"
      ]
     },
     "metadata": {
      "needs_background": "light"
     },
     "output_type": "display_data"
    }
   ],
   "source": [
    "corr_mat(X.corr(),'heatmap_sat_class_red.pdf')"
   ]
  },
  {
   "cell_type": "markdown",
   "metadata": {},
   "source": [
    "__Step 3__"
   ]
  },
  {
   "cell_type": "code",
   "execution_count": 344,
   "metadata": {},
   "outputs": [],
   "source": [
    "# Using only uncorrelated features\n",
    "feature_uncorr_class = ['mvir','vpeak','macc','con',\n",
    "                        'a08','total_spin']\n",
    "\n",
    "X = pd.get_dummies(halo_both_sample[feature_uncorr_class])\n",
    "\n",
    "X_train, X_val, y_train, y_val = train_test_split(X, y, random_state = 0)\n",
    "rfclass_uncorr = RandomForestClassifier(n_estimators = 100, \n",
    "                max_depth = 20.0,min_samples_leaf = 5,\n",
    "                n_jobs = -1,oob_score = True,random_state = 0,\n",
    "                max_features='log2')\n",
    "rfclass_uncorr.fit(X_train, y_train);\n",
    "pred_rf_uncorr = rfclass_uncorr.predict(X_val)"
   ]
  },
  {
   "cell_type": "code",
   "execution_count": 345,
   "metadata": {},
   "outputs": [
    {
     "name": "stdout",
     "output_type": "stream",
     "text": [
      "[0.74050179 0.73837416 0.73680556 0.73236441 0.73706897]\n",
      "0.737022975975153 0.002671309689009511\n"
     ]
    }
   ],
   "source": [
    "rfclass_uncorr_scores = cross_val_score(rfclass_uncorr, X, y, scoring=\"f1\", cv=5)\n",
    "print(rfclass_uncorr_scores)\n",
    "print(np.mean(rfclass_uncorr_scores),np.std(rfclass_uncorr_scores))"
   ]
  },
  {
   "cell_type": "markdown",
   "metadata": {},
   "source": [
    "## Predictions for Step 1\n",
    "\n",
    "Now making predictions on the entire halo data (~ 1.8 million)"
   ]
  },
  {
   "cell_type": "code",
   "execution_count": 346,
   "metadata": {},
   "outputs": [],
   "source": [
    "X_full = pd.get_dummies(halo_full[feature_uncorr_class])\n",
    "pred_full = rfclass_uncorr.predict(X_full)"
   ]
  },
  {
   "cell_type": "code",
   "execution_count": 347,
   "metadata": {},
   "outputs": [
    {
     "name": "stdout",
     "output_type": "stream",
     "text": [
      "0.669763835037011 0.8281555090655509 0.9636365225724218\n",
      "0.7405854152862766\n"
     ]
    }
   ],
   "source": [
    "y_full = halo_full['zero or one']\n",
    "tn, fp, fn, tp = confusion_matrix(y_full, pred_full).ravel()\n",
    "recall = tp / (tp + fn)\n",
    "prec = tp / (tp + fp)\n",
    "accuracy = (tp + tn)/(tp + tn + fp + fn)\n",
    "print(recall, prec, accuracy)\n",
    "f1 = 2.0/((1.0/prec) + (1.0/recall))\n",
    "print(f1)"
   ]
  },
  {
   "cell_type": "markdown",
   "metadata": {},
   "source": [
    "## Step 2\n",
    "\n",
    "Now run a regressor to predict number of satellites a halo of class 1 from above will have"
   ]
  },
  {
   "cell_type": "code",
   "execution_count": 348,
   "metadata": {},
   "outputs": [],
   "source": [
    "# sat_num.to_numpy() gives the values of the 2nd column (# of sats)\n",
    "# in sat_num\n",
    "\n",
    "sat_num = sat_data_above['fofID'].value_counts()\n",
    "sat_num_np = sat_num.to_numpy()\n",
    "\n",
    "# ground_truth_above contains 2 columns: haloIDs and # of sats\n",
    "\n",
    "ground_truth_above = pd.DataFrame({'fofID': haloID_above, \n",
    "                    'Number of Sats': sat_num_np})"
   ]
  },
  {
   "cell_type": "markdown",
   "metadata": {},
   "source": [
    "We now have a pd df, _ground_truth_above_, which contains haloIDs and # of sats, arranged in descending order of # of sats. We then need to first pick _haloID_above_ from the central data, and then assign _sat_num_np_ to the halos selected. This is done in two steps:\n",
    "\n",
    "1) We sort _ground_truth_above_ by fofID.\n",
    "\n",
    "2) We sort _halo_above_ by fofID. "
   ]
  },
  {
   "cell_type": "code",
   "execution_count": 349,
   "metadata": {},
   "outputs": [],
   "source": [
    "ground_truth_above_sort = ground_truth_above.sort_values(by = ['fofID'])\n",
    "ground_truth_above_sort = index_reset_drop(ground_truth_above_sort)\n",
    "\n",
    "halo_above_sort = halo_above.sort_values(by = ['fofID'])\n",
    "halo_above_sort = index_reset_drop(halo_above_sort)\n",
    "\n",
    "halo_above_sort['Number of Sats'] = ground_truth_above_sort['Number of Sats']\n",
    "\n",
    "# Shuffle\n",
    "halo_above_sort = halo_above_sort.sample(frac=1,random_state=0).reset_index(drop=True)"
   ]
  },
  {
   "cell_type": "markdown",
   "metadata": {},
   "source": [
    "## Step 2 training starts here"
   ]
  },
  {
   "cell_type": "code",
   "execution_count": 350,
   "metadata": {},
   "outputs": [],
   "source": [
    "y = halo_above_sort['Number of Sats'].to_numpy()\n",
    "X = pd.get_dummies(halo_above_sort[halo_features_all])\n",
    "X_train, X_val, y_train, y_val = train_test_split(X, y, random_state = 0)"
   ]
  },
  {
   "cell_type": "code",
   "execution_count": 351,
   "metadata": {},
   "outputs": [],
   "source": [
    "rfreg_all = RandomForestRegressor(n_estimators = 100, \n",
    "                max_depth = 20.0,min_samples_leaf = 5,\n",
    "                n_jobs = -1,oob_score = True,random_state = 0,\n",
    "                max_features='log2')\n",
    "rfreg_all.fit(X_train, y_train);\n",
    "pred_rfreg_all = rfreg_all.predict(X_val)"
   ]
  },
  {
   "cell_type": "code",
   "execution_count": 352,
   "metadata": {},
   "outputs": [
    {
     "data": {
      "image/png": "[encoded data removed]",
      "text/plain": [
       "<Figure size 864x864 with 1 Axes>"
      ]
     },
     "metadata": {
      "needs_background": "light"
     },
     "output_type": "display_data"
    }
   ],
   "source": [
    "bar_plot(rfreg_all,X_train.columns,'feature_imp_sat_reg_full.pdf')"
   ]
  },
  {
   "cell_type": "code",
   "execution_count": 353,
   "metadata": {},
   "outputs": [
    {
     "data": {
      "image/png": "[encoded data removed]",
      "text/plain": [
       "<Figure size 864x864 with 1 Axes>"
      ]
     },
     "metadata": {
      "needs_background": "light"
     },
     "output_type": "display_data"
    }
   ],
   "source": [
    "feature_imp = rfreg_all.feature_importances_\n",
    "features_arr = np.array(X_train.columns)\n",
    "indices = np.argsort(feature_imp)\n",
    "\n",
    "feature_pos = np.hstack((indices[-7:-1],indices[-1]))\n",
    "halo_features_top = features_arr[feature_pos]\n",
    "\n",
    "X = pd.get_dummies(halo_above_sort[halo_features_top])\n",
    "\n",
    "X_train, X_val, y_train, y_val = train_test_split(X, y, random_state = 0)\n",
    "rfreg_top = RandomForestRegressor(n_estimators = 100, \n",
    "                max_depth = 20.0,min_samples_leaf = 5,\n",
    "                n_jobs = -1,oob_score = True,random_state = 0,\n",
    "                max_features='log2')\n",
    "rfreg_top.fit(X_train, y_train);\n",
    "pred_rfreg_top = rfreg_top.predict(X_val)\n",
    "\n",
    "bar_plot(rfreg_top,X_train.columns,'feature_imp_sat_reg_top.pdf')"
   ]
  },
  {
   "cell_type": "code",
   "execution_count": 354,
   "metadata": {},
   "outputs": [
    {
     "data": {
      "image/png": "[encoded data removed]",
      "text/plain": [
       "<Figure size 504x504 with 2 Axes>"
      ]
     },
     "metadata": {
      "needs_background": "light"
     },
     "output_type": "display_data"
    }
   ],
   "source": [
    "corr_mat(X.corr(),'heatmap_sat_reg_red.pdf')"
   ]
  },
  {
   "cell_type": "code",
   "execution_count": 355,
   "metadata": {},
   "outputs": [],
   "source": [
    "feature_uncorr_reg = ['mvir','vpeak','g2_5','g5','g10']\n",
    "\n",
    "X = pd.get_dummies(halo_above_sort[feature_uncorr_reg])\n",
    "\n",
    "X_train, X_val, y_train, y_val = train_test_split(X, y, random_state = 0)\n",
    "rfreg_uncorr = RandomForestRegressor(n_estimators = 100, \n",
    "                max_depth = 20.0,min_samples_leaf = 5,\n",
    "                n_jobs = -1,oob_score = True,random_state = 0,\n",
    "                max_features='log2')\n",
    "rfreg_uncorr.fit(X_train, y_train);\n",
    "pred_rf_uncorr = rfreg_uncorr.predict(X_val)"
   ]
  },
  {
   "cell_type": "code",
   "execution_count": 356,
   "metadata": {},
   "outputs": [
    {
     "name": "stdout",
     "output_type": "stream",
     "text": [
      "[0.93452103 0.93173127 0.93375153 0.89924122 0.91663508]\n",
      "0.9231760261160918 0.013633793118745262\n"
     ]
    }
   ],
   "source": [
    "rfreg_uncorr_scores = cross_val_score(rfreg_uncorr, X, y, scoring=\"r2\", cv=5)\n",
    "print(rfreg_uncorr_scores)\n",
    "print(np.mean(rfreg_uncorr_scores),np.std(rfreg_uncorr_scores))"
   ]
  },
  {
   "cell_type": "code",
   "execution_count": 357,
   "metadata": {},
   "outputs": [
    {
     "name": "stdout",
     "output_type": "stream",
     "text": [
      "[0.92900913 0.92525613 0.92946349 0.94138205 0.93848777]\n",
      "0.9327197138460159 0.006138126546016571\n"
     ]
    }
   ],
   "source": [
    "poly_features = PolynomialFeatures(degree=2, include_bias=True)\n",
    "X_scale = X.copy()\n",
    "X_scale[feature_uncorr_reg] = scaler.fit_transform(X_scale[feature_uncorr_reg])\n",
    "X_poly = poly_features.fit_transform(X_scale)\n",
    "X_train_poly, X_val_poly, y_train, y_val = train_test_split(X_poly, y, random_state = 0)\n",
    "\n",
    "ridge_reg = Ridge(alpha=0.01, solver=\"svd\", random_state=0)\n",
    "ridgereg_scores = cross_val_score(ridge_reg, X_poly, y,\n",
    "                                scoring=\"r2\", cv=5)\n",
    "print(ridgereg_scores)\n",
    "print(np.mean(ridgereg_scores),np.std(ridgereg_scores))"
   ]
  },
  {
   "cell_type": "code",
   "execution_count": 358,
   "metadata": {},
   "outputs": [
    {
     "name": "stdout",
     "output_type": "stream",
     "text": [
      "0.9231760261160918 0.013633793118745262\n"
     ]
    }
   ],
   "source": [
    "print(np.mean(rfreg_uncorr_scores),np.std(rfreg_uncorr_scores))"
   ]
  },
  {
   "cell_type": "markdown",
   "metadata": {},
   "source": [
    "## Predictions for Step 2"
   ]
  },
  {
   "cell_type": "code",
   "execution_count": 359,
   "metadata": {},
   "outputs": [
    {
     "data": {
      "text/plain": [
       "0.9320460487268594"
      ]
     },
     "execution_count": 359,
     "metadata": {},
     "output_type": "execute_result"
    }
   ],
   "source": [
    "ridge_reg.fit(X_train_poly,y_train)\n",
    "pred_ridge_reg = ridge_reg.predict(X_poly)\n",
    "r2_score(pred_ridge_reg,y)"
   ]
  },
  {
   "cell_type": "markdown",
   "metadata": {},
   "source": [
    "## Setting up predictions for a new data set \n",
    "\n",
    "This data set only contains halo properties for which we must predict number of halos   "
   ]
  },
  {
   "cell_type": "code",
   "execution_count": 360,
   "metadata": {},
   "outputs": [],
   "source": [
    "X_full_cp = cent_data.copy()\n",
    "X_full = pd.get_dummies(cent_data[feature_uncorr_class])\n",
    "pred_full = rfclass_uncorr.predict(X_full)\n",
    "    \n",
    "X_full_cp['Predicted number of satellites'] = pred_full\n",
    "X_more = X_full_cp.loc[X_full_cp['Predicted number of satellites'] == 1]\n",
    "X_none = X_full_cp.loc[X_full_cp['Predicted number of satellites'] == 0]"
   ]
  },
  {
   "cell_type": "code",
   "execution_count": 361,
   "metadata": {},
   "outputs": [],
   "source": [
    "X_more_reg = pd.get_dummies(X_more[feature_uncorr_reg])\n",
    "pred_rf_full = rfreg_uncorr.predict(X_more_reg)"
   ]
  },
  {
   "cell_type": "code",
   "execution_count": 362,
   "metadata": {},
   "outputs": [],
   "source": [
    "X_more_cp = X_more.copy()\n",
    "X_more_cp['Predicted number of satellites'] = pred_rf_full\n",
    "X_more = X_more_cp.copy()\n",
    "\n",
    "X_none_cp = X_none.copy()\n",
    "X_none_cp['Predicted number of satellites'] = 0\n",
    "X_none = X_none_cp.copy()"
   ]
  },
  {
   "cell_type": "code",
   "execution_count": 363,
   "metadata": {},
   "outputs": [],
   "source": [
    "X_full_new = X_none.append(X_more)"
   ]
  },
  {
   "cell_type": "code",
   "execution_count": 364,
   "metadata": {},
   "outputs": [],
   "source": [
    "X_full_sort = X_full_new.sort_values(by = 'fofID')\n",
    "X_full_sort = index_reset_drop(X_full_sort)"
   ]
  },
  {
   "cell_type": "markdown",
   "metadata": {},
   "source": [
    "## Testing regression model on entire satellite data"
   ]
  },
  {
   "cell_type": "code",
   "execution_count": 380,
   "metadata": {},
   "outputs": [],
   "source": [
    "halo_above_sample2 = halo_above_sort.sample(n=more_num,random_state=0).reset_index(drop=True)\n",
    "halo_above_sample2 = index_reset_drop(halo_above_sample2)\n",
    "halo_below_sample2 = halo_below.sample(n=zero_num,random_state=0)\n",
    "halo_below_sample2 = index_reset_drop(halo_below_sample2)\n",
    "halo_below_sample2['Number of Sats'] = 0\n",
    "halo_sample2 = halo_above_sample2.append(halo_below_sample2, ignore_index = True)\n",
    "\n",
    "halo_sample2 = halo_sample2.sample(frac=1).reset_index(drop=True)\n",
    "halo_sample2 = index_reset_drop(halo_sample2)"
   ]
  },
  {
   "cell_type": "code",
   "execution_count": 383,
   "metadata": {},
   "outputs": [],
   "source": [
    "y = halo_sample2['Number of Sats'].to_numpy()\n",
    "X = pd.get_dummies(halo_sample2[halo_features_all])\n",
    "X_train, X_val, y_train, y_val = train_test_split(X, y, random_state = 0)\n",
    "\n",
    "rfreg_2 = RandomForestRegressor(n_estimators = 100, \n",
    "                max_depth = 20.0,min_samples_leaf = 5,\n",
    "                n_jobs = -1,oob_score = True,random_state = 0,\n",
    "                max_features='log2')\n",
    "rfreg_2.fit(X_train, y_train);\n",
    "pred_rfreg_all = rfreg_2.predict(X_val)"
   ]
  },
  {
   "cell_type": "code",
   "execution_count": 387,
   "metadata": {},
   "outputs": [
    {
     "name": "stdout",
     "output_type": "stream",
     "text": [
      "[0.89881273 0.90141296 0.88945142 0.91353624 0.87460223]\n",
      "0.8955631129385745 0.012996348539601858\n"
     ]
    }
   ],
   "source": [
    "rfreg_uncorr_scores_2 = cross_val_score(rfreg_2, X, y, scoring=\"r2\", cv=5)\n",
    "print(rfreg_uncorr_scores_2)\n",
    "print(np.mean(rfreg_uncorr_scores_2),np.std(rfreg_uncorr_scores_2))"
   ]
  },
  {
   "cell_type": "code",
   "execution_count": 388,
   "metadata": {},
   "outputs": [],
   "source": [
    "X_above = pd.get_dummies(halo_above_sample2[halo_features_all])\n",
    "pred_rfreg2_above = rfreg_2.predict(X_above)"
   ]
  },
  {
   "cell_type": "code",
   "execution_count": 418,
   "metadata": {},
   "outputs": [],
   "source": [
    "haloID_sample2 = halo_sample2['fofID'].unique()\n",
    "sample2_sort = X_full_sort[X_full_sort['fofID'].isin(haloID_sample2)]\n",
    "sample2_sort = index_reset_drop(sample2_sort)"
   ]
  },
  {
   "cell_type": "code",
   "execution_count": 412,
   "metadata": {},
   "outputs": [],
   "source": [
    "halo_sample2_sort = halo_sample2.sort_values(by = 'fofID')\n",
    "halo_sample2_sort = index_reset_drop(halo_sample2_sort)\n",
    "X_sample2_sort = pd.get_dummies(halo_sample2_sort[halo_features_all])\n",
    "pred_rfreg2 = rfreg_2.predict(X_sample2_sort)\n",
    "pred_rfreg2 = np.rint(pred_rfreg2)"
   ]
  },
  {
   "cell_type": "code",
   "execution_count": 428,
   "metadata": {},
   "outputs": [
    {
     "data": {
      "text/plain": [
       "0.9041455162085756"
      ]
     },
     "execution_count": 428,
     "metadata": {},
     "output_type": "execute_result"
    }
   ],
   "source": [
    "r2_score(pred_rfreg2,halo_sample2_sort['Number of Sats'])"
   ]
  },
  {
   "cell_type": "code",
   "execution_count": 436,
   "metadata": {},
   "outputs": [
    {
     "data": {
      "text/plain": [
       "0.9085206712998282"
      ]
     },
     "execution_count": 436,
     "metadata": {},
     "output_type": "execute_result"
    }
   ],
   "source": [
    "r2_score(sample2_sort['Predicted number of satellites'],\n",
    "         halo_sample2_sort['Number of Sats'])"
   ]
  },
  {
   "cell_type": "markdown",
   "metadata": {},
   "source": [
    "## Testing the original Central data set"
   ]
  },
  {
   "cell_type": "code",
   "execution_count": 386,
   "metadata": {},
   "outputs": [
    {
     "data": {
      "text/plain": [
       "0.9387642587611655"
      ]
     },
     "execution_count": 386,
     "metadata": {},
     "output_type": "execute_result"
    }
   ],
   "source": [
    "X_full_sort_above = X_full_sort[X_full_sort['fofID'].isin(haloID_above)]\n",
    "y_above_true = ground_truth_above_sort['Number of Sats']\n",
    "y_above_pred = X_full_sort_above['Predicted number of satellites']\n",
    "\n",
    "r2_score(y_above_pred,y_above_true)"
   ]
  },
  {
   "cell_type": "code",
   "execution_count": 271,
   "metadata": {},
   "outputs": [
    {
     "name": "stdout",
     "output_type": "stream",
     "text": [
      "0.9881765090141977\n"
     ]
    }
   ],
   "source": [
    "X_full_sort_below = X_full_sort[X_full_sort['fofID'].isin(haloID_below)]\n",
    "y_below_true = halo_below['zero or one']\n",
    "y_below_pred = X_full_sort_below['Predicted number of satellites']\n",
    "y_below_pred = index_reset_drop(y_below_pred)\n",
    "zero_pred = y_below_pred[y_below_pred['Predicted number of satellites'] == 0.]\n",
    "\n",
    "#print(zero_pred.shape[0]/y_below_true.shape[0])"
   ]
  },
  {
   "cell_type": "markdown",
   "metadata": {},
   "source": []
  },
  {
   "cell_type": "code",
   "execution_count": 44,
   "metadata": {},
   "outputs": [],
   "source": []
  },
  {
   "cell_type": "code",
   "execution_count": 45,
   "metadata": {},
   "outputs": [],
   "source": []
  },
  {
   "cell_type": "code",
   "execution_count": 46,
   "metadata": {},
   "outputs": [
    {
     "data": {
      "text/plain": [
       "array([[22666,   207],\n",
       "       [  152,  1975]])"
      ]
     },
     "execution_count": 46,
     "metadata": {},
     "output_type": "execute_result"
    },
    {
     "data": {
      "image/png": "[encoded data removed]",
      "text/plain": [
       "<Figure size 288x288 with 2 Axes>"
      ]
     },
     "metadata": {
      "needs_background": "light"
     },
     "output_type": "display_data"
    }
   ],
   "source": []
  },
  {
   "cell_type": "code",
   "execution_count": 47,
   "metadata": {},
   "outputs": [
    {
     "data": {
      "image/png": "[encoded data removed]",
      "text/plain": [
       "<Figure size 432x288 with 1 Axes>"
      ]
     },
     "metadata": {
      "needs_background": "light"
     },
     "output_type": "display_data"
    }
   ],
   "source": [
    "with PdfPages('feature_imp_full.pdf') as export_pdf:\n",
    "    feature_imp = rfclass_full.feature_importances_\n",
    "    features_arr = np.array(X_train.columns)\n",
    "\n",
    "    indices = np.argsort(feature_imp)\n",
    "    plt.barh(range(len(indices)), feature_imp[indices], color='b', align='center');\n",
    "    plt.yticks(range(len(indices)), [features_arr[i] for i in indices]);\n",
    "    export_pdf.savefig()"
   ]
  },
  {
   "cell_type": "code",
   "execution_count": 48,
   "metadata": {},
   "outputs": [
    {
     "name": "stdout",
     "output_type": "stream",
     "text": [
      "0.9285378467324871 0.9051329055912007 0.98564\n",
      "0.9166860060338826\n"
     ]
    }
   ],
   "source": []
  },
  {
   "cell_type": "code",
   "execution_count": 49,
   "metadata": {},
   "outputs": [
    {
     "name": "stdout",
     "output_type": "stream",
     "text": [
      "[0.919233   0.91980454 0.92094634 0.91973341 0.91935484]\n",
      "0.9198144261502879 0.0006061605414067378\n"
     ]
    }
   ],
   "source": []
  },
  {
   "cell_type": "code",
   "execution_count": 50,
   "metadata": {},
   "outputs": [
    {
     "data": {
      "image/png": "[encoded data removed]",
      "text/plain": [
       "<Figure size 432x288 with 1 Axes>"
      ]
     },
     "metadata": {
      "needs_background": "light"
     },
     "output_type": "display_data"
    }
   ],
   "source": []
  },
  {
   "cell_type": "code",
   "execution_count": 51,
   "metadata": {},
   "outputs": [
    {
     "name": "stdout",
     "output_type": "stream",
     "text": [
      "[0.9170076  0.91467969 0.9136939  0.91736735 0.91810842]\n",
      "0.9161713922740781 0.0016878848665957018\n"
     ]
    }
   ],
   "source": []
  },
  {
   "cell_type": "code",
   "execution_count": 52,
   "metadata": {},
   "outputs": [
    {
     "data": {
      "image/png": "[encoded data removed]",
      "text/plain": [
       "<Figure size 432x288 with 2 Axes>"
      ]
     },
     "metadata": {
      "needs_background": "light"
     },
     "output_type": "display_data"
    }
   ],
   "source": []
  },
  {
   "cell_type": "code",
   "execution_count": 53,
   "metadata": {},
   "outputs": [],
   "source": []
  },
  {
   "cell_type": "code",
   "execution_count": 54,
   "metadata": {},
   "outputs": [
    {
     "name": "stdout",
     "output_type": "stream",
     "text": [
      "[0.90988626 0.91123919 0.90903857 0.91451753 0.90993072]\n",
      "0.910922455327456 0.001930344397451475\n"
     ]
    }
   ],
   "source": []
  },
  {
   "cell_type": "markdown",
   "metadata": {},
   "source": [
    "## Predictions for Central occupancy"
   ]
  },
  {
   "cell_type": "code",
   "execution_count": 55,
   "metadata": {},
   "outputs": [],
   "source": [
    "X_full = pd.get_dummies(cent_data[feature_uncorr_class])\n",
    "pred_full = rfclass_uncorr.predict(X_full)"
   ]
  },
  {
   "cell_type": "code",
   "execution_count": 56,
   "metadata": {},
   "outputs": [
    {
     "name": "stdout",
     "output_type": "stream",
     "text": [
      "0.9229846339663155 0.8921708268148598 0.9839730121730831\n",
      "0.9073161851037839\n"
     ]
    }
   ],
   "source": [
    "y_full = cent_data_cp['stellarMass']\n",
    "tn, fp, fn, tp = confusion_matrix(y_full, pred_full).ravel()\n",
    "recall = tp / (tp + fn)\n",
    "prec = tp / (tp + fp)\n",
    "accuracy = (tp + tn)/(tp + tn + fp + fn)\n",
    "print(recall, prec, accuracy)\n",
    "f1 = 2.0/((1.0/prec) + (1.0/recall))\n",
    "print(f1)"
   ]
  },
  {
   "cell_type": "code",
   "execution_count": 57,
   "metadata": {},
   "outputs": [],
   "source": [
    "cent_data_cp['Predicted Central Occupancy'] = pred_full\n",
    "cent_data_cp_sort = cent_data_cp.sort_values(by = 'fofID')\n",
    "cent_data_cp_sort = cent_data_cp_sort.reset_index()\n",
    "cent_data_cp_sort = cent_data_cp_sort.drop(columns = ['index'])\n",
    "\n",
    "cent_data_cp_sort['Predicted number of satellites'] = X_full_sort['Predicted number of satellites']\n"
   ]
  },
  {
   "cell_type": "code",
   "execution_count": 58,
   "metadata": {},
   "outputs": [],
   "source": [
    "cent_data_sort = cent_data.sort_values(by = 'fofID')\n",
    "cent_data_sort = cent_data_sort.reset_index()\n",
    "cent_data_sort = cent_data_sort.drop(columns = ['index'])\n",
    "\n",
    "cent_data_sort['Predicted number of satellites'] = cent_data_cp_sort['Predicted number of satellites']\n",
    "cent_data_sort['Predicted Central Occupancy'] = cent_data_cp_sort['Predicted Central Occupancy'] "
   ]
  },
  {
   "cell_type": "markdown",
   "metadata": {},
   "source": [
    "## Binning"
   ]
  },
  {
   "cell_type": "code",
   "execution_count": 295,
   "metadata": {},
   "outputs": [
    {
     "name": "stdout",
     "output_type": "stream",
     "text": [
      "0.06887649282632247\n",
      "[[2854    0    0    0]\n",
      " [ 102    0    0    0]\n",
      " [  11    0    0    0]\n",
      " [   1    0    0    0]]\n"
     ]
    },
    {
     "data": {
      "image/png": "[encoded data removed]",
      "text/plain": [
       "<Figure size 288x288 with 2 Axes>"
      ]
     },
     "metadata": {
      "needs_background": "light"
     },
     "output_type": "display_data"
    }
   ],
   "source": [
    "halo_bin_features =  ['phkey','con','mvir','vmax','a05','a08','vpeak',\n",
    "'zvpeak','macc','smacc','mergnum','z_firstmerg','z_lastmerg',\n",
    "'x','y','z','type','total_spin','g1_25','g2_5','g5','g10','alpha']\n",
    "from sklearn.ensemble import RandomForestClassifier\n",
    "from sklearn.metrics import confusion_matrix\n",
    "\n",
    "#halo_bin_features = ['mvir','vpeak','g2_5','g5']\n",
    "\n",
    "N = 6\n",
    "features_arr = np.array(halo_bin_features)\n",
    "feature_imp = np.zeros((N,features_arr.shape[0]))\n",
    "indices = np.zeros((N,features_arr.shape[0]))\n",
    "\n",
    "for j in range(1,2):\n",
    "    halo_data_bin = halo_cen_unq_sort[(halo_cen_unq_sort['centralMvir'] < 10.**(j+1)) &\n",
    "                (halo_cen_unq_sort['centralMvir'] > 10.**(j))]\n",
    "    halo_data_bin = halo_data_bin.reset_index()\n",
    "    halo_data_bin = halo_data_bin.drop(columns = ['index'])\n",
    "    halo_ID_bin = halo_data_bin['fofID']\n",
    "\n",
    "    ground_truth_bin = ground_truth_sort[ground_truth_sort['fofID'].isin(halo_ID_bin)]\n",
    "    ground_truth_bin = ground_truth_bin.reset_index()\n",
    "    ground_truth_bin = ground_truth_bin.drop(columns = ['index']) \n",
    "                                       \n",
    "    y_bin = ground_truth_bin['Number of Sats'].to_numpy()\n",
    "    X_bin = pd.get_dummies(halo_data_bin[halo_bin_features])\n",
    "                                       \n",
    "    X_bin_train, X_bin_val, y_bin_train, y_bin_val = train_test_split(X_bin, y_bin, random_state = 0)\n",
    "#    y_bin_val_arr = np.zeros((N,y_bin_train.shape[0])) \n",
    "#    pred_rf_arr = np.zeros_like(y_bin_val)\n",
    "#    X_bin_val_arr = np.zeros_like(y_bin_val)\n",
    "#    y_bin_val_arr[j,:] = y_bin_val\n",
    "#    pred_rf_arr[j,:] = pred_rf\n",
    "#    X_bin_val_arr[j,:] = X_bin_val\n",
    "    rfreg_bin = RandomForestRegressor(n_estimators = 100, \n",
    "                max_depth = 5.0,min_samples_leaf = 3,\n",
    "                n_jobs = -1,oob_score = True,random_state = 0,\n",
    "                max_features='log2')\n",
    "\n",
    "    rfclass_bin = RandomForestClassifier(n_estimators = 100, \n",
    "                max_depth = 5.0,min_samples_leaf = 3,\n",
    "                n_jobs = -1,oob_score = True,random_state = 0,\n",
    "                max_features='log2')\n",
    "\n",
    "    rfreg_bin.fit(X_bin_train, y_bin_train);\n",
    "    pred_rf = rfreg_bin.predict(X_bin_val)\n",
    "    print(r2_score(y_bin_val,pred_rf))\n",
    "\n",
    "    rfclass_bin.fit(X_bin_train, y_bin_train);\n",
    "    pred_rf = rfclass_bin.predict(X_bin_val)\n",
    "    cm = confusion_matrix(y_bin_val, pred_rf)\n",
    "    plt.matshow(cm)\n",
    "    plt.colorbar()\n",
    "\n",
    "    print(cm)    \n",
    "    feature_imp[j,:] = rfreg_bin.feature_importances_\n",
    "\n",
    "    indices[j,:] = np.argsort(feature_imp[j,:])                     \n"
   ]
  },
  {
   "cell_type": "code",
   "execution_count": 258,
   "metadata": {},
   "outputs": [
    {
     "name": "stdout",
     "output_type": "stream",
     "text": [
      "Counter({1: 2968}) Counter({1: 2854, 2: 102, 3: 11, 4: 1})\n"
     ]
    }
   ],
   "source": [
    "import collections, numpy\n",
    "\n",
    "print(collections.Counter(pred_rf), \n",
    "      collections.Counter(y_bin_val))"
   ]
  },
  {
   "cell_type": "code",
   "execution_count": 326,
   "metadata": {},
   "outputs": [
    {
     "data": {
      "text/html": [
       "<div>\n",
       "<style scoped>\n",
       "    .dataframe tbody tr th:only-of-type {\n",
       "        vertical-align: middle;\n",
       "    }\n",
       "\n",
       "    .dataframe tbody tr th {\n",
       "        vertical-align: top;\n",
       "    }\n",
       "\n",
       "    .dataframe thead th {\n",
       "        text-align: right;\n",
       "    }\n",
       "</style>\n",
       "<table border=\"1\" class=\"dataframe\">\n",
       "  <thead>\n",
       "    <tr style=\"text-align: right;\">\n",
       "      <th></th>\n",
       "      <th>phkey</th>\n",
       "      <th>con</th>\n",
       "      <th>mvir</th>\n",
       "      <th>vmax</th>\n",
       "      <th>a05</th>\n",
       "      <th>a08</th>\n",
       "      <th>vpeak</th>\n",
       "      <th>zvpeak</th>\n",
       "      <th>macc</th>\n",
       "      <th>smacc</th>\n",
       "      <th>...</th>\n",
       "      <th>y</th>\n",
       "      <th>z</th>\n",
       "      <th>type</th>\n",
       "      <th>total_spin</th>\n",
       "      <th>g1_25</th>\n",
       "      <th>g2_5</th>\n",
       "      <th>g5</th>\n",
       "      <th>g10</th>\n",
       "      <th>alpha</th>\n",
       "      <th>num_sat</th>\n",
       "    </tr>\n",
       "  </thead>\n",
       "  <tbody>\n",
       "    <tr>\n",
       "      <td>11865</td>\n",
       "      <td>16762807</td>\n",
       "      <td>0.949853</td>\n",
       "      <td>97.684540</td>\n",
       "      <td>153.26578</td>\n",
       "      <td>0.643761</td>\n",
       "      <td>0.876447</td>\n",
       "      <td>195.39769</td>\n",
       "      <td>0.089288</td>\n",
       "      <td>-261.507308</td>\n",
       "      <td>-2.677059</td>\n",
       "      <td>...</td>\n",
       "      <td>16.663414</td>\n",
       "      <td>472.22916</td>\n",
       "      <td>0</td>\n",
       "      <td>3.392575</td>\n",
       "      <td>8.227546</td>\n",
       "      <td>3.350343</td>\n",
       "      <td>1.166894</td>\n",
       "      <td>0.908859</td>\n",
       "      <td>0.650985</td>\n",
       "      <td>1</td>\n",
       "    </tr>\n",
       "    <tr>\n",
       "      <td>11866</td>\n",
       "      <td>16758939</td>\n",
       "      <td>1.116512</td>\n",
       "      <td>49.487762</td>\n",
       "      <td>143.61821</td>\n",
       "      <td>0.463865</td>\n",
       "      <td>0.491220</td>\n",
       "      <td>153.46486</td>\n",
       "      <td>0.623590</td>\n",
       "      <td>-36.412346</td>\n",
       "      <td>-0.735785</td>\n",
       "      <td>...</td>\n",
       "      <td>42.278080</td>\n",
       "      <td>473.09120</td>\n",
       "      <td>0</td>\n",
       "      <td>1.970662</td>\n",
       "      <td>3.749091</td>\n",
       "      <td>3.793927</td>\n",
       "      <td>2.711788</td>\n",
       "      <td>1.705927</td>\n",
       "      <td>0.275349</td>\n",
       "      <td>1</td>\n",
       "    </tr>\n",
       "    <tr>\n",
       "      <td>11867</td>\n",
       "      <td>16771808</td>\n",
       "      <td>1.157878</td>\n",
       "      <td>77.459110</td>\n",
       "      <td>172.92862</td>\n",
       "      <td>0.331289</td>\n",
       "      <td>0.764481</td>\n",
       "      <td>203.03825</td>\n",
       "      <td>0.019933</td>\n",
       "      <td>-26.481538</td>\n",
       "      <td>-0.341878</td>\n",
       "      <td>...</td>\n",
       "      <td>25.969719</td>\n",
       "      <td>448.89710</td>\n",
       "      <td>0</td>\n",
       "      <td>3.263480</td>\n",
       "      <td>5.900879</td>\n",
       "      <td>4.619894</td>\n",
       "      <td>2.528303</td>\n",
       "      <td>1.177535</td>\n",
       "      <td>0.384606</td>\n",
       "      <td>1</td>\n",
       "    </tr>\n",
       "    <tr>\n",
       "      <td>11868</td>\n",
       "      <td>16752035</td>\n",
       "      <td>1.187418</td>\n",
       "      <td>77.975494</td>\n",
       "      <td>177.73372</td>\n",
       "      <td>0.415625</td>\n",
       "      <td>0.719962</td>\n",
       "      <td>178.04948</td>\n",
       "      <td>0.019933</td>\n",
       "      <td>-46.343308</td>\n",
       "      <td>-0.594332</td>\n",
       "      <td>...</td>\n",
       "      <td>57.536346</td>\n",
       "      <td>441.98224</td>\n",
       "      <td>0</td>\n",
       "      <td>4.586824</td>\n",
       "      <td>2.201721</td>\n",
       "      <td>1.470524</td>\n",
       "      <td>1.160839</td>\n",
       "      <td>1.031394</td>\n",
       "      <td>0.825774</td>\n",
       "      <td>1</td>\n",
       "    </tr>\n",
       "    <tr>\n",
       "      <td>11869</td>\n",
       "      <td>16754841</td>\n",
       "      <td>1.031447</td>\n",
       "      <td>55.082030</td>\n",
       "      <td>137.49818</td>\n",
       "      <td>0.519315</td>\n",
       "      <td>0.790902</td>\n",
       "      <td>148.65695</td>\n",
       "      <td>0.242469</td>\n",
       "      <td>-16.551154</td>\n",
       "      <td>-0.300482</td>\n",
       "      <td>...</td>\n",
       "      <td>40.149050</td>\n",
       "      <td>462.37775</td>\n",
       "      <td>0</td>\n",
       "      <td>2.181708</td>\n",
       "      <td>2.124331</td>\n",
       "      <td>2.115950</td>\n",
       "      <td>2.133400</td>\n",
       "      <td>1.283053</td>\n",
       "      <td>0.416986</td>\n",
       "      <td>1</td>\n",
       "    </tr>\n",
       "  </tbody>\n",
       "</table>\n",
       "<p>5 rows × 24 columns</p>\n",
       "</div>"
      ],
      "text/plain": [
       "          phkey       con       mvir       vmax       a05       a08  \\\n",
       "11865  16762807  0.949853  97.684540  153.26578  0.643761  0.876447   \n",
       "11866  16758939  1.116512  49.487762  143.61821  0.463865  0.491220   \n",
       "11867  16771808  1.157878  77.459110  172.92862  0.331289  0.764481   \n",
       "11868  16752035  1.187418  77.975494  177.73372  0.415625  0.719962   \n",
       "11869  16754841  1.031447  55.082030  137.49818  0.519315  0.790902   \n",
       "\n",
       "           vpeak    zvpeak        macc     smacc  ...          y          z  \\\n",
       "11865  195.39769  0.089288 -261.507308 -2.677059  ...  16.663414  472.22916   \n",
       "11866  153.46486  0.623590  -36.412346 -0.735785  ...  42.278080  473.09120   \n",
       "11867  203.03825  0.019933  -26.481538 -0.341878  ...  25.969719  448.89710   \n",
       "11868  178.04948  0.019933  -46.343308 -0.594332  ...  57.536346  441.98224   \n",
       "11869  148.65695  0.242469  -16.551154 -0.300482  ...  40.149050  462.37775   \n",
       "\n",
       "       type  total_spin     g1_25      g2_5        g5       g10     alpha  \\\n",
       "11865     0    3.392575  8.227546  3.350343  1.166894  0.908859  0.650985   \n",
       "11866     0    1.970662  3.749091  3.793927  2.711788  1.705927  0.275349   \n",
       "11867     0    3.263480  5.900879  4.619894  2.528303  1.177535  0.384606   \n",
       "11868     0    4.586824  2.201721  1.470524  1.160839  1.031394  0.825774   \n",
       "11869     0    2.181708  2.124331  2.115950  2.133400  1.283053  0.416986   \n",
       "\n",
       "       num_sat  \n",
       "11865        1  \n",
       "11866        1  \n",
       "11867        1  \n",
       "11868        1  \n",
       "11869        1  \n",
       "\n",
       "[5 rows x 24 columns]"
      ]
     },
     "execution_count": 326,
     "metadata": {},
     "output_type": "execute_result"
    }
   ],
   "source": [
    "X_bin_cp = X_bin.copy()\n",
    "X_bin_cp['num_sat'] = y_bin\n",
    "X_bin_cp.tail()"
   ]
  },
  {
   "cell_type": "code",
   "execution_count": 327,
   "metadata": {},
   "outputs": [],
   "source": [
    "outlier = X_bin_cp.loc[X_bin_cp['num_sat'] != 1]\n",
    "outlier = outlier.reset_index()\n",
    "outlier = outlier.drop(columns = ['index'])\n",
    "outlier['con_new'] = outlier.con"
   ]
  },
  {
   "cell_type": "code",
   "execution_count": 328,
   "metadata": {},
   "outputs": [
    {
     "data": {
      "text/plain": [
       "<matplotlib.collections.PathCollection at 0x1a539d2090>"
      ]
     },
     "execution_count": 328,
     "metadata": {},
     "output_type": "execute_result"
    },
    {
     "data": {
      "image/png": "[encoded data removed]",
      "text/plain": [
       "<Figure size 432x288 with 1 Axes>"
      ]
     },
     "metadata": {
      "needs_background": "light"
     },
     "output_type": "display_data"
    }
   ],
   "source": [
    "plt.scatter(X_bin.mvir,X_bin.con,alpha=0.5)\n",
    "plt.scatter(outlier.mvir,outlier.con_new)"
   ]
  },
  {
   "cell_type": "code",
   "execution_count": 321,
   "metadata": {},
   "outputs": [],
   "source": [
    "X_bin_cp.loc[X_bin_cp['num_sat'] != 1, 'con']= 1.1*(X_bin_cp.con)\n",
    "\n"
   ]
  },
  {
   "cell_type": "code",
   "execution_count": 305,
   "metadata": {},
   "outputs": [
    {
     "data": {
      "text/html": [
       "<div>\n",
       "<style scoped>\n",
       "    .dataframe tbody tr th:only-of-type {\n",
       "        vertical-align: middle;\n",
       "    }\n",
       "\n",
       "    .dataframe tbody tr th {\n",
       "        vertical-align: top;\n",
       "    }\n",
       "\n",
       "    .dataframe thead th {\n",
       "        text-align: right;\n",
       "    }\n",
       "</style>\n",
       "<table border=\"1\" class=\"dataframe\">\n",
       "  <thead>\n",
       "    <tr style=\"text-align: right;\">\n",
       "      <th></th>\n",
       "      <th>phkey</th>\n",
       "      <th>con</th>\n",
       "      <th>mvir</th>\n",
       "      <th>vmax</th>\n",
       "      <th>a05</th>\n",
       "      <th>a08</th>\n",
       "      <th>vpeak</th>\n",
       "      <th>zvpeak</th>\n",
       "      <th>macc</th>\n",
       "      <th>smacc</th>\n",
       "      <th>...</th>\n",
       "      <th>y</th>\n",
       "      <th>z</th>\n",
       "      <th>type</th>\n",
       "      <th>total_spin</th>\n",
       "      <th>g1_25</th>\n",
       "      <th>g2_5</th>\n",
       "      <th>g5</th>\n",
       "      <th>g10</th>\n",
       "      <th>alpha</th>\n",
       "      <th>num_sat</th>\n",
       "    </tr>\n",
       "  </thead>\n",
       "  <tbody>\n",
       "    <tr>\n",
       "      <td>0</td>\n",
       "      <td>5767</td>\n",
       "      <td>1.112402</td>\n",
       "      <td>96.823880</td>\n",
       "      <td>178.96555</td>\n",
       "      <td>0.431211</td>\n",
       "      <td>0.569789</td>\n",
       "      <td>192.94147</td>\n",
       "      <td>1.077875</td>\n",
       "      <td>-92.686154</td>\n",
       "      <td>-0.957265</td>\n",
       "      <td>...</td>\n",
       "      <td>21.525980</td>\n",
       "      <td>37.102856</td>\n",
       "      <td>0</td>\n",
       "      <td>1.291159</td>\n",
       "      <td>4.077098</td>\n",
       "      <td>2.535460</td>\n",
       "      <td>1.190493</td>\n",
       "      <td>0.951082</td>\n",
       "      <td>0.803949</td>\n",
       "      <td>1</td>\n",
       "    </tr>\n",
       "    <tr>\n",
       "      <td>1</td>\n",
       "      <td>24109</td>\n",
       "      <td>1.078663</td>\n",
       "      <td>70.832050</td>\n",
       "      <td>156.36598</td>\n",
       "      <td>0.378137</td>\n",
       "      <td>0.778536</td>\n",
       "      <td>167.37381</td>\n",
       "      <td>1.630271</td>\n",
       "      <td>76.135000</td>\n",
       "      <td>1.074867</td>\n",
       "      <td>...</td>\n",
       "      <td>57.445385</td>\n",
       "      <td>40.581707</td>\n",
       "      <td>0</td>\n",
       "      <td>1.796679</td>\n",
       "      <td>14.375061</td>\n",
       "      <td>3.298037</td>\n",
       "      <td>1.633542</td>\n",
       "      <td>1.346350</td>\n",
       "      <td>0.580303</td>\n",
       "      <td>1</td>\n",
       "    </tr>\n",
       "    <tr>\n",
       "      <td>2</td>\n",
       "      <td>14246</td>\n",
       "      <td>1.176147</td>\n",
       "      <td>73.844345</td>\n",
       "      <td>172.88109</td>\n",
       "      <td>0.379887</td>\n",
       "      <td>0.562842</td>\n",
       "      <td>181.43068</td>\n",
       "      <td>0.687109</td>\n",
       "      <td>62.894038</td>\n",
       "      <td>0.851711</td>\n",
       "      <td>...</td>\n",
       "      <td>9.290336</td>\n",
       "      <td>24.249660</td>\n",
       "      <td>0</td>\n",
       "      <td>1.948388</td>\n",
       "      <td>2.042845</td>\n",
       "      <td>1.168416</td>\n",
       "      <td>0.927144</td>\n",
       "      <td>0.989585</td>\n",
       "      <td>0.887937</td>\n",
       "      <td>1</td>\n",
       "    </tr>\n",
       "    <tr>\n",
       "      <td>3</td>\n",
       "      <td>7080</td>\n",
       "      <td>1.164101</td>\n",
       "      <td>92.262400</td>\n",
       "      <td>184.29446</td>\n",
       "      <td>0.379969</td>\n",
       "      <td>0.649457</td>\n",
       "      <td>208.81897</td>\n",
       "      <td>1.385718</td>\n",
       "      <td>-19.861154</td>\n",
       "      <td>-0.215268</td>\n",
       "      <td>...</td>\n",
       "      <td>22.811821</td>\n",
       "      <td>60.532032</td>\n",
       "      <td>0</td>\n",
       "      <td>0.362541</td>\n",
       "      <td>4.362735</td>\n",
       "      <td>4.172705</td>\n",
       "      <td>1.897275</td>\n",
       "      <td>1.046074</td>\n",
       "      <td>0.320896</td>\n",
       "      <td>1</td>\n",
       "    </tr>\n",
       "    <tr>\n",
       "      <td>4</td>\n",
       "      <td>3266</td>\n",
       "      <td>1.263387</td>\n",
       "      <td>80.815670</td>\n",
       "      <td>191.37340</td>\n",
       "      <td>0.406701</td>\n",
       "      <td>0.452867</td>\n",
       "      <td>219.74792</td>\n",
       "      <td>1.173417</td>\n",
       "      <td>62.894231</td>\n",
       "      <td>0.778243</td>\n",
       "      <td>...</td>\n",
       "      <td>22.676504</td>\n",
       "      <td>18.497011</td>\n",
       "      <td>0</td>\n",
       "      <td>0.240367</td>\n",
       "      <td>6.916746</td>\n",
       "      <td>4.510846</td>\n",
       "      <td>2.999653</td>\n",
       "      <td>1.838928</td>\n",
       "      <td>0.301295</td>\n",
       "      <td>1</td>\n",
       "    </tr>\n",
       "    <tr>\n",
       "      <td>...</td>\n",
       "      <td>...</td>\n",
       "      <td>...</td>\n",
       "      <td>...</td>\n",
       "      <td>...</td>\n",
       "      <td>...</td>\n",
       "      <td>...</td>\n",
       "      <td>...</td>\n",
       "      <td>...</td>\n",
       "      <td>...</td>\n",
       "      <td>...</td>\n",
       "      <td>...</td>\n",
       "      <td>...</td>\n",
       "      <td>...</td>\n",
       "      <td>...</td>\n",
       "      <td>...</td>\n",
       "      <td>...</td>\n",
       "      <td>...</td>\n",
       "      <td>...</td>\n",
       "      <td>...</td>\n",
       "      <td>...</td>\n",
       "      <td>...</td>\n",
       "    </tr>\n",
       "    <tr>\n",
       "      <td>11865</td>\n",
       "      <td>16762807</td>\n",
       "      <td>0.949853</td>\n",
       "      <td>97.684540</td>\n",
       "      <td>153.26578</td>\n",
       "      <td>0.643761</td>\n",
       "      <td>0.876447</td>\n",
       "      <td>195.39769</td>\n",
       "      <td>0.089288</td>\n",
       "      <td>-261.507308</td>\n",
       "      <td>-2.677059</td>\n",
       "      <td>...</td>\n",
       "      <td>16.663414</td>\n",
       "      <td>472.229160</td>\n",
       "      <td>0</td>\n",
       "      <td>3.392575</td>\n",
       "      <td>8.227546</td>\n",
       "      <td>3.350343</td>\n",
       "      <td>1.166894</td>\n",
       "      <td>0.908859</td>\n",
       "      <td>0.650985</td>\n",
       "      <td>1</td>\n",
       "    </tr>\n",
       "    <tr>\n",
       "      <td>11866</td>\n",
       "      <td>16758939</td>\n",
       "      <td>1.116512</td>\n",
       "      <td>49.487762</td>\n",
       "      <td>143.61821</td>\n",
       "      <td>0.463865</td>\n",
       "      <td>0.491220</td>\n",
       "      <td>153.46486</td>\n",
       "      <td>0.623590</td>\n",
       "      <td>-36.412346</td>\n",
       "      <td>-0.735785</td>\n",
       "      <td>...</td>\n",
       "      <td>42.278080</td>\n",
       "      <td>473.091200</td>\n",
       "      <td>0</td>\n",
       "      <td>1.970662</td>\n",
       "      <td>3.749091</td>\n",
       "      <td>3.793927</td>\n",
       "      <td>2.711788</td>\n",
       "      <td>1.705927</td>\n",
       "      <td>0.275349</td>\n",
       "      <td>1</td>\n",
       "    </tr>\n",
       "    <tr>\n",
       "      <td>11867</td>\n",
       "      <td>16771808</td>\n",
       "      <td>1.157878</td>\n",
       "      <td>77.459110</td>\n",
       "      <td>172.92862</td>\n",
       "      <td>0.331289</td>\n",
       "      <td>0.764481</td>\n",
       "      <td>203.03825</td>\n",
       "      <td>0.019933</td>\n",
       "      <td>-26.481538</td>\n",
       "      <td>-0.341878</td>\n",
       "      <td>...</td>\n",
       "      <td>25.969719</td>\n",
       "      <td>448.897100</td>\n",
       "      <td>0</td>\n",
       "      <td>3.263480</td>\n",
       "      <td>5.900879</td>\n",
       "      <td>4.619894</td>\n",
       "      <td>2.528303</td>\n",
       "      <td>1.177535</td>\n",
       "      <td>0.384606</td>\n",
       "      <td>1</td>\n",
       "    </tr>\n",
       "    <tr>\n",
       "      <td>11868</td>\n",
       "      <td>16752035</td>\n",
       "      <td>1.187418</td>\n",
       "      <td>77.975494</td>\n",
       "      <td>177.73372</td>\n",
       "      <td>0.415625</td>\n",
       "      <td>0.719962</td>\n",
       "      <td>178.04948</td>\n",
       "      <td>0.019933</td>\n",
       "      <td>-46.343308</td>\n",
       "      <td>-0.594332</td>\n",
       "      <td>...</td>\n",
       "      <td>57.536346</td>\n",
       "      <td>441.982240</td>\n",
       "      <td>0</td>\n",
       "      <td>4.586824</td>\n",
       "      <td>2.201721</td>\n",
       "      <td>1.470524</td>\n",
       "      <td>1.160839</td>\n",
       "      <td>1.031394</td>\n",
       "      <td>0.825774</td>\n",
       "      <td>1</td>\n",
       "    </tr>\n",
       "    <tr>\n",
       "      <td>11869</td>\n",
       "      <td>16754841</td>\n",
       "      <td>1.031447</td>\n",
       "      <td>55.082030</td>\n",
       "      <td>137.49818</td>\n",
       "      <td>0.519315</td>\n",
       "      <td>0.790902</td>\n",
       "      <td>148.65695</td>\n",
       "      <td>0.242469</td>\n",
       "      <td>-16.551154</td>\n",
       "      <td>-0.300482</td>\n",
       "      <td>...</td>\n",
       "      <td>40.149050</td>\n",
       "      <td>462.377750</td>\n",
       "      <td>0</td>\n",
       "      <td>2.181708</td>\n",
       "      <td>2.124331</td>\n",
       "      <td>2.115950</td>\n",
       "      <td>2.133400</td>\n",
       "      <td>1.283053</td>\n",
       "      <td>0.416986</td>\n",
       "      <td>1</td>\n",
       "    </tr>\n",
       "  </tbody>\n",
       "</table>\n",
       "<p>11870 rows × 24 columns</p>\n",
       "</div>"
      ],
      "text/plain": [
       "          phkey       con       mvir       vmax       a05       a08  \\\n",
       "0          5767  1.112402  96.823880  178.96555  0.431211  0.569789   \n",
       "1         24109  1.078663  70.832050  156.36598  0.378137  0.778536   \n",
       "2         14246  1.176147  73.844345  172.88109  0.379887  0.562842   \n",
       "3          7080  1.164101  92.262400  184.29446  0.379969  0.649457   \n",
       "4          3266  1.263387  80.815670  191.37340  0.406701  0.452867   \n",
       "...         ...       ...        ...        ...       ...       ...   \n",
       "11865  16762807  0.949853  97.684540  153.26578  0.643761  0.876447   \n",
       "11866  16758939  1.116512  49.487762  143.61821  0.463865  0.491220   \n",
       "11867  16771808  1.157878  77.459110  172.92862  0.331289  0.764481   \n",
       "11868  16752035  1.187418  77.975494  177.73372  0.415625  0.719962   \n",
       "11869  16754841  1.031447  55.082030  137.49818  0.519315  0.790902   \n",
       "\n",
       "           vpeak    zvpeak        macc     smacc  ...          y           z  \\\n",
       "0      192.94147  1.077875  -92.686154 -0.957265  ...  21.525980   37.102856   \n",
       "1      167.37381  1.630271   76.135000  1.074867  ...  57.445385   40.581707   \n",
       "2      181.43068  0.687109   62.894038  0.851711  ...   9.290336   24.249660   \n",
       "3      208.81897  1.385718  -19.861154 -0.215268  ...  22.811821   60.532032   \n",
       "4      219.74792  1.173417   62.894231  0.778243  ...  22.676504   18.497011   \n",
       "...          ...       ...         ...       ...  ...        ...         ...   \n",
       "11865  195.39769  0.089288 -261.507308 -2.677059  ...  16.663414  472.229160   \n",
       "11866  153.46486  0.623590  -36.412346 -0.735785  ...  42.278080  473.091200   \n",
       "11867  203.03825  0.019933  -26.481538 -0.341878  ...  25.969719  448.897100   \n",
       "11868  178.04948  0.019933  -46.343308 -0.594332  ...  57.536346  441.982240   \n",
       "11869  148.65695  0.242469  -16.551154 -0.300482  ...  40.149050  462.377750   \n",
       "\n",
       "       type  total_spin      g1_25      g2_5        g5       g10     alpha  \\\n",
       "0         0    1.291159   4.077098  2.535460  1.190493  0.951082  0.803949   \n",
       "1         0    1.796679  14.375061  3.298037  1.633542  1.346350  0.580303   \n",
       "2         0    1.948388   2.042845  1.168416  0.927144  0.989585  0.887937   \n",
       "3         0    0.362541   4.362735  4.172705  1.897275  1.046074  0.320896   \n",
       "4         0    0.240367   6.916746  4.510846  2.999653  1.838928  0.301295   \n",
       "...     ...         ...        ...       ...       ...       ...       ...   \n",
       "11865     0    3.392575   8.227546  3.350343  1.166894  0.908859  0.650985   \n",
       "11866     0    1.970662   3.749091  3.793927  2.711788  1.705927  0.275349   \n",
       "11867     0    3.263480   5.900879  4.619894  2.528303  1.177535  0.384606   \n",
       "11868     0    4.586824   2.201721  1.470524  1.160839  1.031394  0.825774   \n",
       "11869     0    2.181708   2.124331  2.115950  2.133400  1.283053  0.416986   \n",
       "\n",
       "       num_sat  \n",
       "0            1  \n",
       "1            1  \n",
       "2            1  \n",
       "3            1  \n",
       "4            1  \n",
       "...        ...  \n",
       "11865        1  \n",
       "11866        1  \n",
       "11867        1  \n",
       "11868        1  \n",
       "11869        1  \n",
       "\n",
       "[11870 rows x 24 columns]"
      ]
     },
     "execution_count": 305,
     "metadata": {},
     "output_type": "execute_result"
    }
   ],
   "source": [
    "X_bin_cp"
   ]
  },
  {
   "cell_type": "code",
   "execution_count": 322,
   "metadata": {},
   "outputs": [
    {
     "name": "stdout",
     "output_type": "stream",
     "text": [
      "0.20288540173745706\n",
      "[[2854    0    0    0]\n",
      " [ 102    0    0    0]\n",
      " [  11    0    0    0]\n",
      " [   1    0    0    0]]\n"
     ]
    },
    {
     "data": {
      "image/png": "[encoded data removed]",
      "text/plain": [
       "<Figure size 288x288 with 2 Axes>"
      ]
     },
     "metadata": {
      "needs_background": "light"
     },
     "output_type": "display_data"
    }
   ],
   "source": [
    "halo_bin_features =  ['phkey','con','mvir','vmax','a05','a08','vpeak',\n",
    "'zvpeak','macc','smacc','mergnum','z_firstmerg','z_lastmerg',\n",
    "'x','y','z','type','total_spin','g1_25','g2_5','g5','g10','alpha']\n",
    "\n",
    "#halo_bin_features = ['mvir','vpeak','g2_5','g5']\n",
    "\n",
    "N = 6\n",
    "features_arr = np.array(halo_bin_features)\n",
    "feature_imp = np.zeros((N,features_arr.shape[0]))\n",
    "indices = np.zeros((N,features_arr.shape[0]))\n",
    "\n",
    "for j in range(1,2):                                       \n",
    "    X_bin_cp1 = pd.get_dummies(X_bin_cp[halo_bin_features])\n",
    "    X_bin_train, X_bin_val, y_bin_train, y_bin_val = train_test_split(X_bin_cp1, y_bin, random_state = 0)\n",
    "    rfreg_bin = RandomForestRegressor(n_estimators = 100, \n",
    "                max_depth = 5.0,min_samples_leaf = 3,\n",
    "                n_jobs = -1,oob_score = True,random_state = 0,\n",
    "                max_features='log2')\n",
    "\n",
    "    rfclass_bin = RandomForestClassifier(n_estimators = 100, \n",
    "                max_depth = 5.0,min_samples_leaf = 3,\n",
    "                n_jobs = -1,oob_score = True,random_state = 0,\n",
    "                max_features='log2')\n",
    "\n",
    "    rfreg_bin.fit(X_bin_train, y_bin_train);\n",
    "    pred_rf = rfreg_bin.predict(X_bin_val)\n",
    "    print(r2_score(y_bin_val,pred_rf))\n",
    "\n",
    "    rfclass_bin.fit(X_bin_train, y_bin_train);\n",
    "    pred_rf = rfclass_bin.predict(X_bin_val)\n",
    "    cm = confusion_matrix(y_bin_val, pred_rf)\n",
    "    plt.matshow(cm)\n",
    "    plt.colorbar()\n",
    "\n",
    "    print(cm)    "
   ]
  },
  {
   "cell_type": "code",
   "execution_count": 58,
   "metadata": {},
   "outputs": [
    {
     "data": {
      "image/png": "[encoded data removed]",
      "text/plain": [
       "<Figure size 1080x1080 with 4 Axes>"
      ]
     },
     "metadata": {
      "needs_background": "light"
     },
     "output_type": "display_data"
    }
   ],
   "source": []
  },
  {
   "cell_type": "code",
   "execution_count": null,
   "metadata": {},
   "outputs": [],
   "source": []
  }
 ],
 "metadata": {
  "kernelspec": {
   "display_name": "Python 3",
   "language": "python",
   "name": "python3"
  },
  "language_info": {
   "codemirror_mode": {
    "name": "ipython",
    "version": 3
   },
   "file_extension": ".py",
   "mimetype": "text/x-python",
   "name": "python",
   "nbconvert_exporter": "python",
   "pygments_lexer": "ipython3",
   "version": "3.7.4"
  },
  "widgets": {
   "application/vnd.jupyter.widget-state+json": {
    "state": {},
    "version_major": 2,
    "version_minor": 0
   }
  }
 },
 "nbformat": 4,
 "nbformat_minor": 4
}
