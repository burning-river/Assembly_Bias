version https://git-lfs.github.com/spec/v1
oid sha256:50f3f40b3c0b7b56bf723ecbbd42da7685d0c7479abb72a6a15b9191fefb39ce
size 1401130
